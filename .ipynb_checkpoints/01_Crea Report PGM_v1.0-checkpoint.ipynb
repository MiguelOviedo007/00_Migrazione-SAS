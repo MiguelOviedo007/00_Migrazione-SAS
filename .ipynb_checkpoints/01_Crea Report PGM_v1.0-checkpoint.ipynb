{
 "cells": [
  {
   "cell_type": "markdown",
   "id": "23c9a66b-7d66-4483-9106-0a7a141895de",
   "metadata": {},
   "source": [
    "# Identifica Stringa"
   ]
  },
  {
   "cell_type": "markdown",
   "id": "bae7ad39-aa40-45c1-91a0-816af9faaf26",
   "metadata": {},
   "source": [
    "Il seguente codice permette di individuare gli indici e le righe in cui è presente una keyword.\n",
    "\n",
    "I commenti all'interno dei programmi vengono esclusi da tutta la procedure\n",
    "\n",
    "E' possibile utilizzare più parole da cercare nelle righe\n",
    "\n",
    "E' possibile utilizzare parole per escludere le righe che lo contengono.\n"
   ]
  },
  {
   "cell_type": "code",
   "execution_count": 1,
   "id": "06a5567e-107a-4e39-a209-3cde6b9f9fbb",
   "metadata": {},
   "outputs": [],
   "source": [
    "import os\n",
    "import pandas as pd\n",
    "\n",
    "def elimina_parole_tra_commenti(line, in_comment_block):\n",
    "    if in_comment_block:\n",
    "        end_comment = line.find('*/')\n",
    "        if end_comment != -1:\n",
    "            line = line[end_comment + 2:]\n",
    "            in_comment_block = False\n",
    "        else:\n",
    "            return '', True  # continua a leggere la prossima riga\n",
    "\n",
    "    start_comment = line.find('/*')\n",
    "    while start_comment != -1:\n",
    "        end_comment = line.find('*/', start_comment + 2)\n",
    "        if end_comment != -1:\n",
    "            line = line[:start_comment] + line[end_comment + 2:]\n",
    "            start_comment = line.find('/*')\n",
    "        else:\n",
    "            in_comment_block = True\n",
    "            line = line[:start_comment]\n",
    "            break\n",
    "\n",
    "    return line, in_comment_block\n",
    "\n",
    "def verifica_presenza_parole(file_path, parole_da_verificare, parole_da_escludere, linee_con_parole):\n",
    "    indici_presenti = []\n",
    "    in_comment_block = False\n",
    "\n",
    "    with open(file_path, 'r') as file:\n",
    "        for numero, line in enumerate(file, start=1):\n",
    "            line_originale = line.strip()\n",
    "\n",
    "            # Elimina le parole tra /* e */\n",
    "            line_senza_commenti, in_comment_block = elimina_parole_tra_commenti(line_originale, in_comment_block)\n",
    "\n",
    "            # CONDIZIONE\n",
    "            if all(parola.lower() in line_senza_commenti.lower() for parola in parole_da_verificare) and \\\n",
    "               all(parola.lower() not in line_senza_commenti.lower() for parola in parole_da_escludere):\n",
    "                indici_presenti.append(numero)\n",
    "                # linee_con_parole.append(line_originale.lower())\n",
    "                \n",
    "                file_nome = os.path.basename(file.name)\n",
    "                if line_originale.lower() in linee_con_parole:\n",
    "                    linee_con_parole[line_originale.lower()].append(file_nome)\n",
    "                else:\n",
    "                    linee_con_parole[line_originale.lower()] = [file_nome]\n",
    "    return indici_presenti\n",
    "\n",
    "def crea_dataframe_presenza_parole(cartella, estensione, parole_da_verificare, parole_da_escludere):\n",
    "    stringa_verificare = ','.join(parole_da_verificare)\n",
    "    stringa_escludere = ','.join(parole_da_escludere)\n",
    "    if len(parole_da_escludere) == 0:\n",
    "        nome_colonna=stringa_verificare\n",
    "    else:\n",
    "        nome_colonna=stringa_verificare + '-' + stringa_escludere\n",
    "    \n",
    "    dati_temporanei = {'Nome File': [], nome_colonna: []}\n",
    "    linee_con_parole = {}\n",
    "\n",
    "    for root, dirs, files in os.walk(cartella):\n",
    "        for file_name in files:\n",
    "            if file_name.endswith(estensione):\n",
    "                file_path = os.path.join(root, file_name)\n",
    "                indici_presenti = verifica_presenza_parole(file_path, parole_da_verificare, parole_da_escludere, linee_con_parole)\n",
    "                dati_temporanei['Nome File'].append(file_name)\n",
    "                dati_temporanei[nome_colonna].append(indici_presenti)\n",
    "\n",
    "    dataframe = pd.DataFrame(dati_temporanei)\n",
    "    dataframe.set_index('Nome File', inplace=True)\n",
    "    \n",
    "    df_linee = pd.DataFrame(list(linee_con_parole.items()), columns=[nome_colonna, 'Nome File'])\n",
    "    # df_linee['Nome File'] = df_linee['Nome File'].apply(lambda x: list(set(x)))\n",
    "    df_linee['Frequenza Programmi'] = df_linee['Nome File'].apply(len)\n",
    "    df_linee.sort_values(by='Frequenza Programmi',ascending=False, inplace=True)\n",
    "\n",
    "    return dataframe, df_linee"
   ]
  },
  {
   "cell_type": "markdown",
   "id": "77c89ac0-8dec-420d-b929-c632f977dc92",
   "metadata": {},
   "source": [
    "### Creazione Report"
   ]
  },
  {
   "cell_type": "code",
   "execution_count": 2,
   "id": "8b80f333-896b-46bc-89ae-08256a992329",
   "metadata": {
    "scrolled": true
   },
   "outputs": [],
   "source": [
    "cartella_da_esplorare = r\"C:\\Miguel\\progetti\\05_Modifica Testi\\01_data\\PRD_9-3\\ITPSAS02_DLST_CMD005\"\n",
    "estensione_file = \".sas\"\n",
    "\n",
    "# Chiama la funzione per creare il DataFrame\n",
    "connect_to_pgm, connect_to_linee = crea_dataframe_presenza_parole(cartella_da_esplorare, estensione_file, ['connect to'], [])\n",
    "\n",
    "proc_import_pgm, proc_import_linee = crea_dataframe_presenza_parole(cartella_da_esplorare, estensione_file, ['proc import'],[])\n",
    "\n",
    "proc_export_pgm, proc_export_linee = crea_dataframe_presenza_parole(cartella_da_esplorare, estensione_file, ['proc export'],[])\n",
    "\n",
    "mail_pgm, mail_linee = crea_dataframe_presenza_parole(cartella_da_esplorare, estensione_file, ['%email'],[])\n",
    "\n",
    "let_pgm, let_linee = crea_dataframe_presenza_parole(cartella_da_esplorare, estensione_file, ['%let'],[])\n",
    "\n",
    "call_symput_pgm, call_symput_linee = crea_dataframe_presenza_parole(cartella_da_esplorare, estensione_file, ['call symput'],[])\n",
    "\n",
    "include_pgm, include_linee = crea_dataframe_presenza_parole(cartella_da_esplorare, estensione_file, ['%include'],[])\n",
    "\n",
    "libname_pgm, libname_linee = crea_dataframe_presenza_parole(cartella_da_esplorare, estensione_file, ['libname'],[\"%include\"])\n",
    "\n",
    "report = pd.concat([connect_to_pgm,  proc_import_pgm, proc_export_pgm, mail_pgm, let_pgm, call_symput_pgm, include_pgm, libname_pgm], axis=1)\n",
    "# report.to_csv('report_Catena_20-11-2023.csv')"
   ]
  },
  {
   "cell_type": "markdown",
   "id": "c2ff9cb7-621f-4544-b52b-fc1cf679d11a",
   "metadata": {
    "jp-MarkdownHeadingCollapsed": true
   },
   "source": [
    "STATS REPORT"
   ]
  },
  {
   "cell_type": "code",
   "execution_count": 137,
   "id": "bd48f4d4-eb49-4761-8a90-4a91aafb2803",
   "metadata": {},
   "outputs": [],
   "source": [
    "# libname_linee.to_csv('libname_linee.csv', sep=';', index=False)"
   ]
  },
  {
   "cell_type": "code",
   "execution_count": 3,
   "id": "4b990bd3-b15a-4467-8968-82223333c89c",
   "metadata": {},
   "outputs": [],
   "source": [
    "report_length = report.map(lambda x: len(x) if isinstance(x, list) else x)\n",
    "# report_length.to_csv('report_length.csv')\n",
    "totali_per_colonna = report.map(lambda x: len(x) if isinstance(x, list) else 0).sum()\n",
    "conteggi_per_colonna = (report.map(lambda x: len(x) if isinstance(x, list) else 0) != 0).sum()\n",
    "\n",
    "report_means = pd.DataFrame({\n",
    "    'Keyword': totali_per_colonna.index,\n",
    "    'Numero Programmi' : report.shape[0],\n",
    "    'Frequenza Totale': totali_per_colonna.values,\n",
    "    'Frequenza Programmi' : conteggi_per_colonna.values,\n",
    "    'Percentuale Programmi' : conteggi_per_colonna.values/report.shape[0]\n",
    "})\n",
    "\n",
    "# report_means.to_csv('report_means.csv', index=False, sep=';', decimal=',')"
   ]
  },
  {
   "cell_type": "markdown",
   "id": "cdae95c1-dc41-465e-b9c7-66974dfe5ce6",
   "metadata": {},
   "source": [
    "Frequenza %let"
   ]
  },
  {
   "cell_type": "code",
   "execution_count": 4,
   "id": "aace9fec-30ad-46d4-8c34-78acbe292cbb",
   "metadata": {},
   "outputs": [],
   "source": [
    "df_expanded = let_linee.explode(['Nome File'])\n",
    "# df_expanded.to_csv('%let.csv', sep=\";\")"
   ]
  },
  {
   "cell_type": "code",
   "execution_count": 5,
   "id": "3a8acc9b-b438-4a6d-b155-a979701702ac",
   "metadata": {},
   "outputs": [
    {
     "data": {
      "text/plain": [
       "%let\n",
       "jobname                28\n",
       "direzione               4\n",
       "nomefile                3\n",
       "script1                 3\n",
       "ambiente                2\n",
       "percorso_out            2\n",
       "infile                  2\n",
       "save_versione           2\n",
       "p_output                2\n",
       "dir_output_xlsx         1\n",
       "todaysdate              1\n",
       "todaysdate1             1\n",
       "ambiente_odss           1\n",
       "inizio                  1\n",
       "ambiente_dobit          1\n",
       "data_ini                1\n",
       "gg_retain               1\n",
       "lista                   1\n",
       "flow_status_code_03     1\n",
       "percorso_i              1\n",
       "percorso_o              1\n",
       "flow_status_code        1\n",
       "p_output_log            1\n",
       "script2                 1\n",
       "n_invoice_limit         1\n",
       "segment                 1\n",
       "ambiente_glob           1\n",
       "percorso                1\n",
       "nomefiledel             1\n",
       "Name: count, dtype: int64"
      ]
     },
     "execution_count": 5,
     "metadata": {},
     "output_type": "execute_result"
    }
   ],
   "source": [
    "# Frequenza dei nomi delle macro-variabili\n",
    "name_let = let_linee['%let'].apply(lambda x: x.split('=')[0])\n",
    "name_let = name_let.apply(lambda x: x.replace('%let ', ''))\n",
    "name_let = name_let.str.strip().str.replace('\\\\s+', ' ')\n",
    "name_let.value_counts()"
   ]
  },
  {
   "cell_type": "markdown",
   "id": "7de9799f-4571-441c-9fdb-bc2c7fe6251b",
   "metadata": {},
   "source": [
    "Frequenza CALL SYMPUT"
   ]
  },
  {
   "cell_type": "code",
   "execution_count": 6,
   "id": "078a7289-c3d4-49eb-91ba-0004e8b8af6b",
   "metadata": {},
   "outputs": [],
   "source": [
    "df_expanded = call_symput_linee.explode(['Nome File'])\n",
    "# df_expanded.to_csv('call_symput.csv', sep=\";\")"
   ]
  },
  {
   "cell_type": "markdown",
   "id": "338bd8b3-d9f7-4745-808b-e70f6b5f0de7",
   "metadata": {},
   "source": [
    "Frequenza Include"
   ]
  },
  {
   "cell_type": "code",
   "execution_count": 7,
   "id": "f811815d-a21a-4d92-9e8c-cadac86bbd9d",
   "metadata": {},
   "outputs": [],
   "source": [
    "df_expanded = include_linee.explode(['Nome File'])\n",
    "# df_expanded.to_csv('include.csv', sep=\";\")"
   ]
  },
  {
   "cell_type": "markdown",
   "id": "02f010e6-3e59-4aff-b89f-7ba09858ab5d",
   "metadata": {},
   "source": [
    "Frequenza libname"
   ]
  },
  {
   "cell_type": "code",
   "execution_count": 8,
   "id": "580c0ab8-3a40-4289-9b8d-83e1320f2592",
   "metadata": {},
   "outputs": [],
   "source": [
    "df_expanded = libname_linee.explode(['Nome File'])"
   ]
  },
  {
   "cell_type": "code",
   "execution_count": 20,
   "id": "cc59d73a-b7b5-4ee1-b32b-ad9dd7f015d2",
   "metadata": {},
   "outputs": [],
   "source": [
    "# df_expanded.to_csv(\"libname.csv\",sep=';')"
   ]
  },
  {
   "cell_type": "markdown",
   "id": "624bdcf2-4b73-49c4-8b6f-49c8b366c865",
   "metadata": {},
   "source": [
    "# Identifica Stringhe con le regex"
   ]
  },
  {
   "cell_type": "code",
   "execution_count": 8,
   "id": "a237fba7-deba-49c3-bf0a-a723e54fa73b",
   "metadata": {},
   "outputs": [],
   "source": [
    "import os\n",
    "import pandas as pd\n",
    "import re\n",
    "\n",
    "def elimina_parole_tra_commenti(line, in_comment_block):\n",
    "    if in_comment_block:\n",
    "        end_comment = line.find('*/')\n",
    "        if end_comment != -1:\n",
    "            line = line[end_comment + 2:]\n",
    "            in_comment_block = False\n",
    "        else:\n",
    "            return '', True  # Continua a leggere la prossima riga\n",
    "\n",
    "    start_comment = line.find('/*')\n",
    "    while start_comment != -1:\n",
    "        end_comment = line.find('*/', start_comment + 2)\n",
    "        if end_comment != -1:\n",
    "            line = line[:start_comment] + line[end_comment + 2:]\n",
    "            start_comment = line.find('/*')\n",
    "        else:\n",
    "            in_comment_block = True\n",
    "            line = line[:start_comment]\n",
    "            break\n",
    "\n",
    "    return line, in_comment_block\n",
    "\n",
    "def verifica_presenza_parole(file_path, regex_pattern, parole_da_escludere, linee_con_parole):\n",
    "    indici_presenti = []\n",
    "    in_comment_block = False\n",
    "\n",
    "    with open(file_path, 'r') as file:\n",
    "        for numero, line in enumerate(file, start=1):\n",
    "            line_originale = line.strip()\n",
    "\n",
    "            # Elimina le parole tra /* e */\n",
    "            line_senza_commenti, in_comment_block = elimina_parole_tra_commenti(line_originale, in_comment_block)\n",
    "            # regex_pattern = r'\\bdata\\b\\s+\\S+\\.\\S+\\s*;'\n",
    "            \n",
    "            # Verifica la presenza di tutte le parole nella lista e l'assenza delle parole da escludere\n",
    "            if re.search(regex_pattern, line_senza_commenti.lower(), re.IGNORECASE) and \\\n",
    "               all(parola.lower() not in line_senza_commenti.lower() for parola in parole_da_escludere):\n",
    "                indici_presenti.append(numero)\n",
    "                # linee_con_parole.append(line_originale.lower())\n",
    "                \n",
    "                file_nome = os.path.basename(file.name)\n",
    "                if line_originale.lower() in linee_con_parole:\n",
    "                    linee_con_parole[line_originale.lower()].append(file_nome)\n",
    "                else:\n",
    "                    linee_con_parole[line_originale.lower()] = [file_nome]\n",
    "    return indici_presenti\n",
    "\n",
    "def crea_dataframe_presenza_parole(cartella, estensione, regex_pattern, parole_da_escludere):\n",
    " \n",
    "    nome_colonna=regex_pattern\n",
    "    \n",
    "    dati_temporanei = {'File': [], nome_colonna: []}\n",
    "    linee_con_parole = {}\n",
    "\n",
    "    for root, dirs, files in os.walk(cartella):\n",
    "        for file_name in files:\n",
    "            if file_name.endswith(estensione):\n",
    "                file_path = os.path.join(root, file_name)\n",
    "                indici_presenti = verifica_presenza_parole(file_path, regex_pattern, parole_da_escludere, linee_con_parole)\n",
    "                dati_temporanei['File'].append(file_name)\n",
    "                dati_temporanei[nome_colonna].append(indici_presenti)\n",
    "\n",
    "    dataframe = pd.DataFrame(dati_temporanei)\n",
    "    dataframe.set_index('File', inplace=True)\n",
    "\n",
    "    df_linee = pd.DataFrame(list(linee_con_parole.items()), columns=[nome_colonna, 'programmi'])\n",
    "    df_linee['programmi'] = df_linee['programmi'].apply(lambda x: list(set(x)))\n",
    "    df_linee['Frequenza pgm'] = df_linee['programmi'].apply(len)\n",
    "    df_linee.sort_values(by='Frequenza pgm',ascending=False, inplace=True)\n",
    "\n",
    "    return dataframe, df_linee"
   ]
  },
  {
   "cell_type": "markdown",
   "id": "2a58d204-4ac8-489a-ab80-6488dc1f9c26",
   "metadata": {},
   "source": [
    "### Dove scrive..."
   ]
  },
  {
   "cell_type": "markdown",
   "id": "a31dc4ac-f099-402f-9da3-999eca74cdd7",
   "metadata": {},
   "source": [
    "#### DATA"
   ]
  },
  {
   "cell_type": "code",
   "execution_count": 9,
   "id": "534e4b8a-d280-49b8-b91f-28da5b2d280c",
   "metadata": {},
   "outputs": [],
   "source": [
    "df1_pgm, df1_linee = crea_dataframe_presenza_parole(cartella_da_esplorare, estensione_file, r'\\bdata\\b\\s+(\\S+\\.\\S+(?:\\s+\\S+)*)\\s*;',[])"
   ]
  },
  {
   "cell_type": "code",
   "execution_count": 10,
   "id": "d68a45a2-2d5e-4e6f-b636-299e3872040a",
   "metadata": {},
   "outputs": [],
   "source": [
    "# df1_pgm, df1_linee = crea_dataframe_presenza_parole(cartella_da_esplorare, estensione_file, r'\\bdata\\b\\s+\\S+\\.\\S+\\s*;',[])"
   ]
  },
  {
   "cell_type": "code",
   "execution_count": 11,
   "id": "73f9c546-9dff-49a5-97dd-e0ce5a0cf1fb",
   "metadata": {},
   "outputs": [],
   "source": [
    "# df1_linee.to_csv('to_elim.csv', sep=';')"
   ]
  },
  {
   "cell_type": "markdown",
   "id": "7b1677a5-503f-4c26-92d2-3dcbd61cebfc",
   "metadata": {},
   "source": [
    "### Dove legge"
   ]
  },
  {
   "cell_type": "markdown",
   "id": "7b045f87-850b-48c5-9dd0-242cdea07f5f",
   "metadata": {},
   "source": [
    "#### SET"
   ]
  },
  {
   "cell_type": "code",
   "execution_count": 12,
   "id": "8fa348b3-494c-463f-b9f5-0ba5c082b835",
   "metadata": {
    "scrolled": true
   },
   "outputs": [],
   "source": [
    "df2_pgm, df2_linee = crea_dataframe_presenza_parole(cartella_da_esplorare, estensione_file,r'\\bset\\b\\s+(\\S+\\.\\S+(?:\\s+\\S+)*)\\s*;',[])"
   ]
  },
  {
   "cell_type": "code",
   "execution_count": 13,
   "id": "8ddd1361-0a45-4169-ab09-19c990ad71e0",
   "metadata": {},
   "outputs": [
    {
     "data": {
      "text/html": [
       "<div>\n",
       "<style scoped>\n",
       "    .dataframe tbody tr th:only-of-type {\n",
       "        vertical-align: middle;\n",
       "    }\n",
       "\n",
       "    .dataframe tbody tr th {\n",
       "        vertical-align: top;\n",
       "    }\n",
       "\n",
       "    .dataframe thead th {\n",
       "        text-align: right;\n",
       "    }\n",
       "</style>\n",
       "<table border=\"1\" class=\"dataframe\">\n",
       "  <thead>\n",
       "    <tr style=\"text-align: right;\">\n",
       "      <th></th>\n",
       "      <th>\\bset\\b\\s+(\\S+\\.\\S+(?:\\s+\\S+)*)\\s*;</th>\n",
       "      <th>programmi</th>\n",
       "      <th>Frequenza pgm</th>\n",
       "    </tr>\n",
       "  </thead>\n",
       "  <tbody>\n",
       "    <tr>\n",
       "      <th>0</th>\n",
       "      <td>set backlog2.backlog_&amp;todaysdate1 backlog_aggi...</td>\n",
       "      <td>[PRD_1315_DRI_Lst_Daily_Backlog_Studi_Risk_v2....</td>\n",
       "      <td>1</td>\n",
       "    </tr>\n",
       "    <tr>\n",
       "      <th>1</th>\n",
       "      <td>set bacvlv.backlog_&amp;todaysdate1 backlog_aggior...</td>\n",
       "      <td>[PRD_1315_DRI_Lst_Daily_Backlog_Studi_Risk_v2....</td>\n",
       "      <td>1</td>\n",
       "    </tr>\n",
       "    <tr>\n",
       "      <th>2</th>\n",
       "      <td>set dri_&amp;ambiente..contact_activity_types(keep...</td>\n",
       "      <td>[PRD_1361_DRI_Ins_DWH_Activity_Complaints_v16....</td>\n",
       "      <td>1</td>\n",
       "    </tr>\n",
       "    <tr>\n",
       "      <th>3</th>\n",
       "      <td>set dob_&amp;ambiente..azit_f_activities_hist;</td>\n",
       "      <td>[PRD_1361_DRI_Ins_DWH_Activity_Complaints_v16....</td>\n",
       "      <td>1</td>\n",
       "    </tr>\n",
       "    <tr>\n",
       "      <th>4</th>\n",
       "      <td>set dri_&amp;ambiente..sub_codes(keep=main_code su...</td>\n",
       "      <td>[PRD_1361_DRI_Ins_DWH_Activity_Complaints_v16....</td>\n",
       "      <td>1</td>\n",
       "    </tr>\n",
       "    <tr>\n",
       "      <th>5</th>\n",
       "      <td>set dob_&amp;ambiente_odss..azit_f_complaints_hist;</td>\n",
       "      <td>[PRD_1361_DRI_Ins_DWH_Activity_Complaints_v16....</td>\n",
       "      <td>1</td>\n",
       "    </tr>\n",
       "    <tr>\n",
       "      <th>6</th>\n",
       "      <td>set dwh_&amp;ambiente..job_1363_pagamenti_cumulati;</td>\n",
       "      <td>[PRD_1363_COD_Lst_Stato_Pagamenti_Documenti_Fo...</td>\n",
       "      <td>1</td>\n",
       "    </tr>\n",
       "    <tr>\n",
       "      <th>7</th>\n",
       "      <td>set dri_&amp;ambiente..lease_out_alpha_user ;</td>\n",
       "      <td>[PRD_1607_DRI_Lst_Billing_Check_FUELRCHRG_FUEL...</td>\n",
       "      <td>1</td>\n",
       "    </tr>\n",
       "    <tr>\n",
       "      <th>8</th>\n",
       "      <td>data fuel_issues; set dri_&amp;ambiente..fuel_issu...</td>\n",
       "      <td>[PRD_1607_DRI_Lst_Billing_Check_FUELRCHRG_FUEL...</td>\n",
       "      <td>1</td>\n",
       "    </tr>\n",
       "  </tbody>\n",
       "</table>\n",
       "</div>"
      ],
      "text/plain": [
       "                 \\bset\\b\\s+(\\S+\\.\\S+(?:\\s+\\S+)*)\\s*;  \\\n",
       "0  set backlog2.backlog_&todaysdate1 backlog_aggi...   \n",
       "1  set bacvlv.backlog_&todaysdate1 backlog_aggior...   \n",
       "2  set dri_&ambiente..contact_activity_types(keep...   \n",
       "3         set dob_&ambiente..azit_f_activities_hist;   \n",
       "4  set dri_&ambiente..sub_codes(keep=main_code su...   \n",
       "5    set dob_&ambiente_odss..azit_f_complaints_hist;   \n",
       "6    set dwh_&ambiente..job_1363_pagamenti_cumulati;   \n",
       "7          set dri_&ambiente..lease_out_alpha_user ;   \n",
       "8  data fuel_issues; set dri_&ambiente..fuel_issu...   \n",
       "\n",
       "                                           programmi  Frequenza pgm  \n",
       "0  [PRD_1315_DRI_Lst_Daily_Backlog_Studi_Risk_v2....              1  \n",
       "1  [PRD_1315_DRI_Lst_Daily_Backlog_Studi_Risk_v2....              1  \n",
       "2  [PRD_1361_DRI_Ins_DWH_Activity_Complaints_v16....              1  \n",
       "3  [PRD_1361_DRI_Ins_DWH_Activity_Complaints_v16....              1  \n",
       "4  [PRD_1361_DRI_Ins_DWH_Activity_Complaints_v16....              1  \n",
       "5  [PRD_1361_DRI_Ins_DWH_Activity_Complaints_v16....              1  \n",
       "6  [PRD_1363_COD_Lst_Stato_Pagamenti_Documenti_Fo...              1  \n",
       "7  [PRD_1607_DRI_Lst_Billing_Check_FUELRCHRG_FUEL...              1  \n",
       "8  [PRD_1607_DRI_Lst_Billing_Check_FUELRCHRG_FUEL...              1  "
      ]
     },
     "execution_count": 13,
     "metadata": {},
     "output_type": "execute_result"
    }
   ],
   "source": [
    "df2_linee"
   ]
  },
  {
   "cell_type": "markdown",
   "id": "d51d250f-c315-4321-bd52-d2c98cd0676d",
   "metadata": {},
   "source": [
    "### FROM (difficile da ottenere...molte subquery e solitamente è presente solo FROM nella stringa)"
   ]
  },
  {
   "cell_type": "code",
   "execution_count": 14,
   "id": "25c5f52c-9bb4-464f-b22d-58de5482f014",
   "metadata": {},
   "outputs": [],
   "source": [
    "df3_pgm, df3_linee = crea_dataframe_presenza_parole(cartella_da_esplorare, estensione_file, r'\\bfrom\\b\\s+\\S+\\s',[])"
   ]
  },
  {
   "cell_type": "code",
   "execution_count": 15,
   "id": "b3320512-060c-417c-829b-c337391d83b9",
   "metadata": {},
   "outputs": [
    {
     "data": {
      "text/html": [
       "<div>\n",
       "<style scoped>\n",
       "    .dataframe tbody tr th:only-of-type {\n",
       "        vertical-align: middle;\n",
       "    }\n",
       "\n",
       "    .dataframe tbody tr th {\n",
       "        vertical-align: top;\n",
       "    }\n",
       "\n",
       "    .dataframe thead th {\n",
       "        text-align: right;\n",
       "    }\n",
       "</style>\n",
       "<table border=\"1\" class=\"dataframe\">\n",
       "  <thead>\n",
       "    <tr style=\"text-align: right;\">\n",
       "      <th></th>\n",
       "      <th>\\bfrom\\b\\s+\\S+\\s</th>\n",
       "      <th>programmi</th>\n",
       "      <th>Frequenza pgm</th>\n",
       "    </tr>\n",
       "  </thead>\n",
       "  <tbody>\n",
       "    <tr>\n",
       "      <th>0</th>\n",
       "      <td>select * from connection to con1</td>\n",
       "      <td>[PRD_2070_Lista_Modelli_Veicoli_CarConfigurato...</td>\n",
       "      <td>13</td>\n",
       "    </tr>\n",
       "    <tr>\n",
       "      <th>31</th>\n",
       "      <td>select * from connection to ora1</td>\n",
       "      <td>[PRD_1394_DRI_Lst_Quotation_WLTP_Manual_v1.0.s...</td>\n",
       "      <td>9</td>\n",
       "    </tr>\n",
       "    <tr>\n",
       "      <th>34</th>\n",
       "      <td>from db a</td>\n",
       "      <td>[PRD_1312_DRI_Lst_Cofor_Check_Pagamenti_v1.0.s...</td>\n",
       "      <td>3</td>\n",
       "    </tr>\n",
       "    <tr>\n",
       "      <th>32</th>\n",
       "      <td>select * from connection to con6</td>\n",
       "      <td>[PRD_1312_DRI_Lst_Cofor_Check_Pagamenti_v1.0.s...</td>\n",
       "      <td>3</td>\n",
       "    </tr>\n",
       "    <tr>\n",
       "      <th>103</th>\n",
       "      <td>left join (select distinct lease_id from prest...</td>\n",
       "      <td>[PRD_1594_DRI_Lst_Inclusione_Veicoli_ArvalCars...</td>\n",
       "      <td>2</td>\n",
       "    </tr>\n",
       "    <tr>\n",
       "      <th>...</th>\n",
       "      <td>...</td>\n",
       "      <td>...</td>\n",
       "      <td>...</td>\n",
       "    </tr>\n",
       "    <tr>\n",
       "      <th>40</th>\n",
       "      <td>(select *, count(*) as tot_studi from dbrichie...</td>\n",
       "      <td>[PRD_1315_DRI_Lst_Daily_Backlog_Studi_Risk_v2....</td>\n",
       "      <td>1</td>\n",
       "    </tr>\n",
       "    <tr>\n",
       "      <th>39</th>\n",
       "      <td>(select *, count(*) as tot_studi from dbrichie...</td>\n",
       "      <td>[PRD_1315_DRI_Lst_Daily_Backlog_Studi_Risk_v2....</td>\n",
       "      <td>1</td>\n",
       "    </tr>\n",
       "    <tr>\n",
       "      <th>38</th>\n",
       "      <td>from dri_prd.crchreq_decisions aa</td>\n",
       "      <td>[PRD_1315_DRI_Lst_Daily_Backlog_Studi_Risk_v2....</td>\n",
       "      <td>1</td>\n",
       "    </tr>\n",
       "    <tr>\n",
       "      <th>37</th>\n",
       "      <td>from dri_prd.sub_codes sc</td>\n",
       "      <td>[PRD_1315_DRI_Lst_Daily_Backlog_Studi_Risk_v2....</td>\n",
       "      <td>1</td>\n",
       "    </tr>\n",
       "    <tr>\n",
       "      <th>123</th>\n",
       "      <td>from dri_&amp;ambiente..companies com</td>\n",
       "      <td>[PRD_2060_COD_Lst_Report_Fornitori_CheckIban_D...</td>\n",
       "      <td>1</td>\n",
       "    </tr>\n",
       "  </tbody>\n",
       "</table>\n",
       "<p>124 rows × 3 columns</p>\n",
       "</div>"
      ],
      "text/plain": [
       "                                      \\bfrom\\b\\s+\\S+\\s  \\\n",
       "0                     select * from connection to con1   \n",
       "31                    select * from connection to ora1   \n",
       "34                                           from db a   \n",
       "32                    select * from connection to con6   \n",
       "103  left join (select distinct lease_id from prest...   \n",
       "..                                                 ...   \n",
       "40   (select *, count(*) as tot_studi from dbrichie...   \n",
       "39   (select *, count(*) as tot_studi from dbrichie...   \n",
       "38                   from dri_prd.crchreq_decisions aa   \n",
       "37                           from dri_prd.sub_codes sc   \n",
       "123                  from dri_&ambiente..companies com   \n",
       "\n",
       "                                             programmi  Frequenza pgm  \n",
       "0    [PRD_2070_Lista_Modelli_Veicoli_CarConfigurato...             13  \n",
       "31   [PRD_1394_DRI_Lst_Quotation_WLTP_Manual_v1.0.s...              9  \n",
       "34   [PRD_1312_DRI_Lst_Cofor_Check_Pagamenti_v1.0.s...              3  \n",
       "32   [PRD_1312_DRI_Lst_Cofor_Check_Pagamenti_v1.0.s...              3  \n",
       "103  [PRD_1594_DRI_Lst_Inclusione_Veicoli_ArvalCars...              2  \n",
       "..                                                 ...            ...  \n",
       "40   [PRD_1315_DRI_Lst_Daily_Backlog_Studi_Risk_v2....              1  \n",
       "39   [PRD_1315_DRI_Lst_Daily_Backlog_Studi_Risk_v2....              1  \n",
       "38   [PRD_1315_DRI_Lst_Daily_Backlog_Studi_Risk_v2....              1  \n",
       "37   [PRD_1315_DRI_Lst_Daily_Backlog_Studi_Risk_v2....              1  \n",
       "123  [PRD_2060_COD_Lst_Report_Fornitori_CheckIban_D...              1  \n",
       "\n",
       "[124 rows x 3 columns]"
      ]
     },
     "execution_count": 15,
     "metadata": {},
     "output_type": "execute_result"
    }
   ],
   "source": [
    "df3_linee"
   ]
  }
 ],
 "metadata": {
  "kernelspec": {
   "display_name": "Python 3 (ipykernel)",
   "language": "python",
   "name": "python3"
  },
  "language_info": {
   "codemirror_mode": {
    "name": "ipython",
    "version": 3
   },
   "file_extension": ".py",
   "mimetype": "text/x-python",
   "name": "python",
   "nbconvert_exporter": "python",
   "pygments_lexer": "ipython3",
   "version": "3.12.0"
  }
 },
 "nbformat": 4,
 "nbformat_minor": 5
}
