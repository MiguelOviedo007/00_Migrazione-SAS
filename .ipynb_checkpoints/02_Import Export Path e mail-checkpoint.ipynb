{
 "cells": [
  {
   "cell_type": "markdown",
   "id": "ce333bed-d365-4717-8380-2fb52d5f879a",
   "metadata": {},
   "source": [
    "Obiettivo: estrarre le informazioni relative alle proc import ed export\n",
    "\n",
    "Idea: \n",
    "1) Utilizzare le keyword PROC IMPORT/EXPORT E RUN;\n",
    "2) Unire tutte le righe che si trovano tra le keyword\n",
    "3) Estrarre le informazioni che seguono DATA= INFILE= OUTFILE= DBMS="
   ]
  },
  {
   "cell_type": "code",
   "execution_count": 1,
   "id": "821d5931-b6f1-499a-9ad0-8c762bcd15d3",
   "metadata": {},
   "outputs": [],
   "source": [
    "# Specificare la cartella da esplorare\n",
    "cartella_da_esplorare = r\"C:\\Miguel\\progetti\\05_Modifica Testi\\01_data\\TEST\\CODICI_SAS\"\n",
    "estensione_file = \".sas\"\n",
    "\n",
    "# Specificare il percorso del file Excel di output\n",
    "excel_file_path = r\"C:\\Miguel\\progetti\\05_Modifica Testi\\02_output\\ReportPrincipale_19_12.xlsx\"\n"
   ]
  },
  {
   "cell_type": "code",
   "execution_count": 2,
   "id": "0cfbfed6-4212-45d6-93c4-15567b845688",
   "metadata": {},
   "outputs": [],
   "source": [
    "import os\n",
    "import pandas as pd\n",
    "import re\n",
    "\n",
    "def elimina_parole_tra_commenti(line, in_comment_block):\n",
    "    if in_comment_block:\n",
    "        end_comment = line.find('*/')\n",
    "        if end_comment != -1:\n",
    "            line = line[end_comment + 2:]\n",
    "            in_comment_block = False\n",
    "        else:\n",
    "            return '', True  # continua a leggere la prossima riga\n",
    "\n",
    "    start_comment = line.find('/*')\n",
    "    while start_comment != -1:\n",
    "        end_comment = line.find('*/', start_comment + 2)\n",
    "        if end_comment != -1:\n",
    "            line = line[:start_comment] + line[end_comment + 2:]\n",
    "            start_comment = line.find('/*')\n",
    "        else:\n",
    "            in_comment_block = True\n",
    "            line = line[:start_comment]\n",
    "            break\n",
    "\n",
    "    return line, in_comment_block\n",
    "    \n",
    "def estrai_blocchi_tra_keywords(percorso_file, keyword, stop_keyword):\n",
    "    righe_estratte = []\n",
    "    blocco_corrente = \"\"\n",
    "    in_comment_block = False\n",
    "    with open(percorso_file, 'r') as file:\n",
    "        for riga in file:\n",
    "            line_originale = riga.strip()\n",
    "            riga, in_comment_block = elimina_parole_tra_commenti(line_originale, in_comment_block)\n",
    "\n",
    "            \n",
    "            if keyword.lower() in riga.lower() and stop_keyword.lower() in riga.lower():\n",
    "                righe_estratte.append(riga.strip())\n",
    "            # Controlla se la keyword è presente nella riga (non case-sensitive)\n",
    "            elif keyword.lower() in riga.lower():\n",
    "                blocco_corrente += riga.strip() + ' '\n",
    "\n",
    "                # Aggiungi la riga corrente se la stop_keyword è presente nella stessa riga\n",
    "                if stop_keyword.lower() in riga.lower():\n",
    "                    righe_estratte.append(blocco_corrente.strip())\n",
    "                    blocco_corrente = \"\"\n",
    "            # Aggiungi la riga corrente al blocco se stai già estraendo\n",
    "            elif blocco_corrente:\n",
    "                blocco_corrente += riga.strip() + ' '\n",
    "                # Aggiungi il blocco alla lista se trovi la stop_keyword\n",
    "                if stop_keyword.lower() in riga.lower():\n",
    "                    righe_estratte.append(blocco_corrente.strip())\n",
    "                    blocco_corrente = \"\"\n",
    "\n",
    "    return righe_estratte\n",
    "\n",
    "def processa_cartella(cartella_da_esplorare, estensione, keyword, stop_keyword):\n",
    "    righe_totali = []\n",
    "    dati_temporanei = {'Nome File': [], 'Percorso File' : [], keyword: []}\n",
    "    \n",
    "    for root, dirs, files in os.walk(cartella_da_esplorare):\n",
    "        for file_name in files:\n",
    "            if file_name.endswith(estensione):\n",
    "                file_path = os.path.join(root, file_name)\n",
    "                \n",
    "                righe_blocchi_import = estrai_blocchi_tra_keywords(file_path, keyword, stop_keyword)\n",
    "                # righe_totali.extend(righe_blocchi_import)\n",
    "\n",
    "                dati_temporanei['Nome File'].append(file_name)\n",
    "                dati_temporanei['Percorso File'].append(root)\n",
    "                dati_temporanei[keyword].append(righe_blocchi_import)\n",
    "\n",
    "    dataframe = pd.DataFrame(dati_temporanei)\n",
    "    dataframe.set_index('Nome File', inplace=True)\n",
    "    return dataframe "
   ]
  },
  {
   "cell_type": "markdown",
   "id": "f3278093-c587-43f8-ab1c-fc175d5b0cb1",
   "metadata": {},
   "source": [
    "#### PROC EXPORT"
   ]
  },
  {
   "cell_type": "code",
   "execution_count": 3,
   "id": "54488327-cded-41a9-9154-81f076b1fa23",
   "metadata": {},
   "outputs": [],
   "source": [
    "keyword = 'proc export'\n",
    "stop_keyword = 'run;'\n",
    "\n",
    "righe_totali = processa_cartella(cartella_da_esplorare, estensione_file, keyword, stop_keyword)"
   ]
  },
  {
   "cell_type": "code",
   "execution_count": 4,
   "id": "570d14f2-b088-4551-b72b-33cbf50f51f7",
   "metadata": {},
   "outputs": [],
   "source": [
    "df_exploded = righe_totali.explode(\"proc export\")\n",
    "\n",
    "# Elimina le righe con valori mancanti nella colonna \"proc export\"\n",
    "df_exploded = df_exploded.dropna(subset=[\"proc export\"])\n",
    "\n",
    "# df_exploded = df_exploded[~df_exploded[\"proc export\"].str.lower().str.startswith(\"/*proc\")]\n",
    "df_export = df_exploded[~(df_exploded[\"proc export\"].str.lower().str.startswith(\"/*proc\") | df_exploded[\"proc export\"].str.lower().str.endswith(\"run;*/\"))]"
   ]
  },
  {
   "cell_type": "code",
   "execution_count": 5,
   "id": "f56090ba-ecbd-4d72-925b-ed031bc69527",
   "metadata": {},
   "outputs": [],
   "source": [
    "df_export['Statement DATA='] = df_export[\"proc export\"].apply(lambda x: re.search(r'data\\s*=\\s*(\\S+|\\S+\\s+\\S+)', x, flags=re.IGNORECASE).group(1) if re.search(r'DATA\\s*=\\s*(\\S+|\\S+\\s+\\S+)', x, flags=re.IGNORECASE) else None)\n",
    "df_export['Statement OUTFILE='] = df_export[\"proc export\"].apply(lambda x: re.search(r'(OUTFILE|FILE)\\s*=\\s*(\\S+)', x, flags=re.IGNORECASE).group(2) if re.search(r'(OUTFILE|FILE)\\s*=\\s*(\\S+)', x, flags=re.IGNORECASE) else None)\n",
    "df_export['Statement SHEET='] = df_export[\"proc export\"].apply(lambda x: re.search(r'SHEET\\s*=\\s*(\\S+)', x, flags=re.IGNORECASE).group(1) if re.search(r'SHEET\\s*=\\s*(\\S+)', x, flags=re.IGNORECASE) else \"\")\n",
    "df_export['Statement DBMS='] = df_export[\"proc export\"].apply(lambda x: re.search(r'DBMS\\s*=\\s*(\\S+)', x, flags=re.IGNORECASE).group(1) if re.search(r'DBMS\\s*=\\s*(\\S+)', x, flags=re.IGNORECASE) else None)"
   ]
  },
  {
   "cell_type": "markdown",
   "id": "5815b0d1-b676-4f73-a693-678d5650cc6c",
   "metadata": {},
   "source": [
    "#### PROC IMPORT"
   ]
  },
  {
   "cell_type": "code",
   "execution_count": 6,
   "id": "1a524471-23c0-40dd-999e-7c0e8da785ff",
   "metadata": {},
   "outputs": [],
   "source": [
    "estensione_file = \".sas\"\n",
    "keyword = 'proc import'\n",
    "stop_keyword = 'run;'\n",
    "\n",
    "righe_totali = processa_cartella(cartella_da_esplorare, estensione_file, keyword, stop_keyword)"
   ]
  },
  {
   "cell_type": "code",
   "execution_count": 7,
   "id": "2032424d-42fd-4a29-860c-af8debad9fec",
   "metadata": {},
   "outputs": [],
   "source": [
    "df_exploded = righe_totali.explode(\"proc import\")\n",
    "\n",
    "# Elimina le righe con valori mancanti nella colonna \"proc export\"\n",
    "df_exploded = df_exploded.dropna(subset=[\"proc import\"])\n",
    "\n",
    "# df_exploded = df_exploded[~df_exploded[\"proc import\"].str.lower().str.startswith(\"/*proc\")]\n",
    "df_import = df_exploded[~(df_exploded[\"proc import\"].str.lower().str.startswith(\"/*proc\") | df_exploded[\"proc import\"].str.lower().str.endswith(\"run;*/\"))]\n"
   ]
  },
  {
   "cell_type": "code",
   "execution_count": 8,
   "id": "cd7c2734-a3a7-4e92-bfa6-f19c3ed1e56a",
   "metadata": {},
   "outputs": [],
   "source": [
    "df_import['Statement OUT='] = df_import[\"proc import\"].apply(lambda x: re.search(r'OUT\\s*=\\s*(\\S+)', x, flags=re.IGNORECASE).group(1) if re.search(r'OUT\\s*=\\s*(\\S+)', x, flags=re.IGNORECASE) else None)\n",
    "df_import['Statement DATAFILE='] = df_import[\"proc import\"].apply(lambda x: re.search(r'(DATAFILE|FILE)\\s*=\\s*(\\S+)', x, flags=re.IGNORECASE).group(2) if re.search(r'(DATAFILE|FILE)\\s*=\\s*(\\S+)', x, flags=re.IGNORECASE) else None)\n",
    "df_import['Statement DBMS='] = df_import[\"proc import\"].apply(lambda x: re.search(r'DBMS\\s*=\\s*(\\S+)', x, flags=re.IGNORECASE).group(1) if re.search(r'DBMS\\s*=\\s*(\\S+)', x, flags=re.IGNORECASE) else None)"
   ]
  },
  {
   "cell_type": "markdown",
   "id": "9f64bb44-d0d9-4a6b-8745-3600c9819903",
   "metadata": {},
   "source": [
    "#### %EMAIL"
   ]
  },
  {
   "cell_type": "code",
   "execution_count": 9,
   "id": "2bc5a331-cc01-4834-aac0-13563acc37f1",
   "metadata": {},
   "outputs": [],
   "source": [
    "keyword = '%email'\n",
    "stop_keyword = ');'\n",
    "\n",
    "righe_totali = processa_cartella(cartella_da_esplorare, estensione_file, keyword, stop_keyword)"
   ]
  },
  {
   "cell_type": "code",
   "execution_count": 10,
   "id": "9692bc47-b823-405c-a402-37a3f5cda2b9",
   "metadata": {},
   "outputs": [],
   "source": [
    "df_exploded = righe_totali.explode(\"%email\")\n",
    "\n",
    "# Elimina le righe con valori mancanti nella colonna \"proc export\"\n",
    "df_exploded = df_exploded.dropna(subset=[\"%email\"])\n",
    "df_exploded[\"%email\"] = df_exploded[\"%email\"].str.lower()\n",
    "# df_exploded = df_exploded[~df_exploded[\"proc export\"].str.lower().str.startswith(\"/*proc\")]\n",
    "df_email = df_exploded[~(df_exploded[\"%email\"].str.startswith(\"/*%email\") | df_exploded[\"%email\"].str.endswith(\");*/\"))]"
   ]
  },
  {
   "cell_type": "code",
   "execution_count": 11,
   "id": "98f91d7f-b88f-4390-9013-57b7a9811996",
   "metadata": {},
   "outputs": [],
   "source": [
    "df_email['subject='] = df_email[\"%email\"].apply(lambda x: re.search(r'subject\\s*=\\s*(\\S+|\\S+\\s+\\S+)', x, flags=re.IGNORECASE).group(1) if re.search(r'subject\\s*=\\s*(\\S+|\\S+\\s+\\S+)', x, flags=re.IGNORECASE) else None)\n",
    "\n",
    "df_email['to_addr1='] = df_email[\"%email\"].apply(lambda x: re.search(r'to_addr1\\s*=\\s*(\\S+|\\S+\\s+\\S+)', x, flags=re.IGNORECASE).group(1) if re.search(r'to_addr1\\s*=\\s*(\\S+|\\S+\\s+\\S+)', x, flags=re.IGNORECASE) else None)\n",
    "df_email['to_addr2='] = df_email[\"%email\"].apply(lambda x: re.search(r'to_addr2\\s*=\\s*(\\S+|\\S+\\s+\\S+)', x, flags=re.IGNORECASE).group(1) if re.search(r'to_addr2\\s*=\\s*(\\S+|\\S+\\s+\\S+)', x, flags=re.IGNORECASE) else None)\n",
    "df_email['to_addr3='] = df_email[\"%email\"].apply(lambda x: re.search(r'to_addr3\\s*=\\s*(\\S+|\\S+\\s+\\S+)', x, flags=re.IGNORECASE).group(1) if re.search(r'to_addr3\\s*=\\s*(\\S+|\\S+\\s+\\S+)', x, flags=re.IGNORECASE) else None)\n",
    "df_email['to_addr4='] = df_email[\"%email\"].apply(lambda x: re.search(r'to_addr4\\s*=\\s*(\\S+|\\S+\\s+\\S+)', x, flags=re.IGNORECASE).group(1) if re.search(r'to_addr4\\s*=\\s*(\\S+|\\S+\\s+\\S+)', x, flags=re.IGNORECASE) else None)\n",
    "df_email['to_addr5='] = df_email[\"%email\"].apply(lambda x: re.search(r'to_addr5\\s*=\\s*(\\S+|\\S+\\s+\\S+)', x, flags=re.IGNORECASE).group(1) if re.search(r'to_addr5\\s*=\\s*(\\S+|\\S+\\s+\\S+)', x, flags=re.IGNORECASE) else None)\n",
    "df_email['to_addr6='] = df_email[\"%email\"].apply(lambda x: re.search(r'to_addr6\\s*=\\s*(\\S+|\\S+\\s+\\S+)', x, flags=re.IGNORECASE).group(1) if re.search(r'to_addr6\\s*=\\s*(\\S+|\\S+\\s+\\S+)', x, flags=re.IGNORECASE) else None)\n",
    "df_email['to_addr7='] = df_email[\"%email\"].apply(lambda x: re.search(r'to_addr7\\s*=\\s*(\\S+|\\S+\\s+\\S+)', x, flags=re.IGNORECASE).group(1) if re.search(r'to_addr7\\s*=\\s*(\\S+|\\S+\\s+\\S+)', x, flags=re.IGNORECASE) else None)\n",
    "df_email['to_addr8='] = df_email[\"%email\"].apply(lambda x: re.search(r'to_addr8\\s*=\\s*(\\S+|\\S+\\s+\\S+)', x, flags=re.IGNORECASE).group(1) if re.search(r'to_addr8\\s*=\\s*(\\S+|\\S+\\s+\\S+)', x, flags=re.IGNORECASE) else None)\n",
    "df_email['to_addr9='] = df_email[\"%email\"].apply(lambda x: re.search(r'to_addr9\\s*=\\s*(\\S+|\\S+\\s+\\S+)', x, flags=re.IGNORECASE).group(1) if re.search(r'to_addr9\\s*=\\s*(\\S+|\\S+\\s+\\S+)', x, flags=re.IGNORECASE) else None)\n",
    "df_email['to_addr10='] = df_email[\"%email\"].apply(lambda x: re.search(r'to_addr10\\s*=\\s*(\\S+|\\S+\\s+\\S+)', x, flags=re.IGNORECASE).group(1) if re.search(r'to_addr10\\s*=\\s*(\\S+|\\S+\\s+\\S+)', x, flags=re.IGNORECASE) else None)\n",
    "\n",
    "df_email['c_addr1='] = df_email[\"%email\"].apply(lambda x: re.search(r'c_addr1\\s*=\\s*(\\S+|\\S+\\s+\\S+)', x, flags=re.IGNORECASE).group(1) if re.search(r'c_addr1\\s*=\\s*(\\S+|\\S+\\s+\\S+)', x, flags=re.IGNORECASE) else None)\n",
    "df_email['c_addr2='] = df_email[\"%email\"].apply(lambda x: re.search(r'c_addr2\\s*=\\s*(\\S+|\\S+\\s+\\S+)', x, flags=re.IGNORECASE).group(1) if re.search(r'c_addr2\\s*=\\s*(\\S+|\\S+\\s+\\S+)', x, flags=re.IGNORECASE) else None)\n",
    "df_email['c_addr3='] = df_email[\"%email\"].apply(lambda x: re.search(r'c_addr3\\s*=\\s*(\\S+|\\S+\\s+\\S+)', x, flags=re.IGNORECASE).group(1) if re.search(r'c_addr3\\s*=\\s*(\\S+|\\S+\\s+\\S+)', x, flags=re.IGNORECASE) else None)\n",
    "df_email['c_addr4='] = df_email[\"%email\"].apply(lambda x: re.search(r'c_addr4\\s*=\\s*(\\S+|\\S+\\s+\\S+)', x, flags=re.IGNORECASE).group(1) if re.search(r'c_addr4\\s*=\\s*(\\S+|\\S+\\s+\\S+)', x, flags=re.IGNORECASE) else None)\n",
    "df_email['c_addr5='] = df_email[\"%email\"].apply(lambda x: re.search(r'c_addr5\\s*=\\s*(\\S+|\\S+\\s+\\S+)', x, flags=re.IGNORECASE).group(1) if re.search(r'c_addr5\\s*=\\s*(\\S+|\\S+\\s+\\S+)', x, flags=re.IGNORECASE) else None)\n",
    "df_email['c_addr6='] = df_email[\"%email\"].apply(lambda x: re.search(r'c_addr6\\s*=\\s*(\\S+|\\S+\\s+\\S+)', x, flags=re.IGNORECASE).group(1) if re.search(r'c_addr6\\s*=\\s*(\\S+|\\S+\\s+\\S+)', x, flags=re.IGNORECASE) else None)\n",
    "df_email['c_addr7='] = df_email[\"%email\"].apply(lambda x: re.search(r'c_addr7\\s*=\\s*(\\S+|\\S+\\s+\\S+)', x, flags=re.IGNORECASE).group(1) if re.search(r'c_addr7\\s*=\\s*(\\S+|\\S+\\s+\\S+)', x, flags=re.IGNORECASE) else None)\n",
    "df_email['c_addr8='] = df_email[\"%email\"].apply(lambda x: re.search(r'c_addr8\\s*=\\s*(\\S+|\\S+\\s+\\S+)', x, flags=re.IGNORECASE).group(1) if re.search(r'c_addr8\\s*=\\s*(\\S+|\\S+\\s+\\S+)', x, flags=re.IGNORECASE) else None)\n",
    "df_email['c_addr9='] = df_email[\"%email\"].apply(lambda x: re.search(r'c_addr9\\s*=\\s*(\\S+|\\S+\\s+\\S+)', x, flags=re.IGNORECASE).group(1) if re.search(r'c_addr9\\s*=\\s*(\\S+|\\S+\\s+\\S+)', x, flags=re.IGNORECASE) else None)\n",
    "df_email['c_addr10='] = df_email[\"%email\"].apply(lambda x: re.search(r'c_addr10\\s*=\\s*(\\S+|\\S+\\s+\\S+)', x, flags=re.IGNORECASE).group(1) if re.search(r'c_addr10\\s*=\\s*(\\S+|\\S+\\s+\\S+)', x, flags=re.IGNORECASE) else None)\n",
    "\n",
    "df_email['attach_file1='] = df_email[\"%email\"].apply(lambda x: re.search(r'attach_file1\\s*=\\s*(\\S+|\\S+\\s+\\S+)', x, flags=re.IGNORECASE).group(1) if re.search(r'attach_file1\\s*=\\s*(\\S+|\\S+\\s+\\S+)', x, flags=re.IGNORECASE) else None)\n",
    "\n",
    "df_email['message1='] = df_email[\"%email\"].apply(lambda x: re.search(r'message1\\s*=\\s*((?:(?!message2).)*)', x, flags=re.IGNORECASE).group(1) if re.search(r'message1\\s*=\\s*((?:(?!message2).)*)', x, flags=re.IGNORECASE) else None)\n",
    "df_email['message2='] = df_email[\"%email\"].apply(lambda x: re.search(r'message2\\s*=\\s*((?:(?!message3).)*)', x, flags=re.IGNORECASE).group(1) if re.search(r'message2\\s*=\\s*((?:(?!message3).)*)', x, flags=re.IGNORECASE) else None)\n",
    "df_email['message3='] = df_email[\"%email\"].apply(lambda x: re.search(r'message3\\s*=\\s*((?:(?!message4).)*)', x, flags=re.IGNORECASE).group(1) if re.search(r'message3\\s*=\\s*((?:(?!message4).)*)', x, flags=re.IGNORECASE) else None)\n",
    "df_email['message4='] = df_email[\"%email\"].apply(lambda x: re.search(r'message4\\s*=\\s*((?:(?!message5).)*)', x, flags=re.IGNORECASE).group(1) if re.search(r'message4\\s*=\\s*((?:(?!message5).)*)', x, flags=re.IGNORECASE) else None)\n",
    "df_email['message5='] = df_email[\"%email\"].apply(lambda x: re.search(r'message5\\s*=\\s*((?:(?!message6).)*)', x, flags=re.IGNORECASE).group(1) if re.search(r'message5\\s*=\\s*((?:(?!message6).)*)', x, flags=re.IGNORECASE) else None)\n",
    "df_email['message6='] = df_email[\"%email\"].apply(lambda x: re.search(r'message6\\s*=\\s*((?:(?!message7).)*)', x, flags=re.IGNORECASE).group(1) if re.search(r'message6\\s*=\\s*((?:(?!message7).)*)', x, flags=re.IGNORECASE) else None)\n",
    "df_email['message7='] = df_email[\"%email\"].apply(lambda x: re.search(r'message7\\s*=\\s*((?:(?!message8).)*)', x, flags=re.IGNORECASE).group(1) if re.search(r'message7\\s*=\\s*((?:(?!message8).)*)', x, flags=re.IGNORECASE) else None)\n",
    "df_email['message8='] = df_email[\"%email\"].apply(lambda x: re.search(r'message8\\s*=\\s*((?:(?!message9).)*)', x, flags=re.IGNORECASE).group(1) if re.search(r'message8\\s*=\\s*((?:(?!message9).)*)', x, flags=re.IGNORECASE) else None)\n",
    "df_email['message9='] = df_email[\"%email\"].apply(lambda x: re.search(r'message9\\s*=\\s*((?:(?!message10).)*)', x, flags=re.IGNORECASE).group(1) if re.search(r'message9\\s*=\\s*((?:(?!message10).)*)', x, flags=re.IGNORECASE) else None)\n",
    "\n",
    "#Elimino tutte le colonne con solo missing\n",
    "df_email = df_email.dropna(axis=1, how='all')\n",
    "columns_address = [col for col in df_email.columns if 'to_addr' in col or 'c_addr' in col]\n",
    "\n",
    "df_email[columns_address] = df_email[columns_address].apply(lambda x: x.str.replace(',', ''))"
   ]
  },
  {
   "cell_type": "code",
   "execution_count": 12,
   "id": "3b66c911-b8b5-4a3a-a050-2a920b0f6299",
   "metadata": {},
   "outputs": [],
   "source": [
    "columns_message = [col for col in df_email.columns if 'message' in col]\n",
    "\n",
    "df_email['Testo mail'] = df_email[columns_message].apply(lambda x: ''.join(x.dropna().astype(str)), axis=1)\n",
    "df_email.drop(columns=columns_message, inplace=True)"
   ]
  },
  {
   "cell_type": "code",
   "execution_count": 13,
   "id": "caafbe13-325e-4b72-8055-08d2018eca26",
   "metadata": {},
   "outputs": [],
   "source": [
    "with pd.ExcelWriter(excel_file_path, engine='openpyxl', mode='a') as writer:\n",
    "    # Aggiungere un altro DataFrame a un foglio esistente\n",
    "    df_export.reset_index().to_excel(writer, sheet_name='PROC EXPORT', index=False)\n",
    "    df_import.reset_index().to_excel(writer, sheet_name='PROC IMPORT', index=False)\n",
    "    df_email.reset_index().to_excel(writer, sheet_name='%EMAIL', index=False)"
   ]
  },
  {
   "cell_type": "markdown",
   "id": "60a501a5-c85c-4f6c-87b9-ee03298bd85b",
   "metadata": {},
   "source": [
    "# ---------------------------------------------------------"
   ]
  },
  {
   "cell_type": "markdown",
   "id": "33925647-ee48-455d-8e54-e7491d88e4ae",
   "metadata": {},
   "source": [
    "##### Trovare tutte le mail univoche"
   ]
  },
  {
   "cell_type": "code",
   "execution_count": 14,
   "id": "5ba6e150-d4cf-4afc-a0e1-7e6010b0de90",
   "metadata": {},
   "outputs": [],
   "source": [
    "df_mails = pd.melt(df_email, value_vars=columns_address, value_name='RECEIVER_MAIL')"
   ]
  },
  {
   "cell_type": "code",
   "execution_count": 15,
   "id": "7aae3431-b16d-4489-a56c-3246fd721f04",
   "metadata": {},
   "outputs": [],
   "source": [
    "df_mails = df_mails[['RECEIVER_MAIL']].dropna()\n",
    "\n",
    "df_mails = df_mails.drop_duplicates(subset=['RECEIVER_MAIL'])"
   ]
  },
  {
   "cell_type": "code",
   "execution_count": 16,
   "id": "597ad9d4-0efb-493d-a294-a09607f98dc8",
   "metadata": {},
   "outputs": [],
   "source": [
    "# Creare una nuova colonna 'nuova_variabile'\n",
    "df_mails['ID_RECEIVER'] = df_mails['RECEIVER_MAIL'].apply(lambda x: x.split('@')[0].replace('.', '_') if '.' in x.split('@')[0] else x.split('@')[0])\n",
    "df_mails['ID_RECEIVER'] = df_mails['ID_RECEIVER'].str.slice(0, 32)\n",
    "df_mails['Tipo_mail'] = df_mails['RECEIVER_MAIL'].apply(lambda x: 'arval_persona' if '@arval' in x and '.' in x.split('@')[0] else ('arval_gruppo' if '@arval' in x else 'altro'))"
   ]
  },
  {
   "cell_type": "code",
   "execution_count": 17,
   "id": "6ce48a42-8f48-4a4e-ad4d-73bb46809f7d",
   "metadata": {},
   "outputs": [],
   "source": [
    "# df_mails.to_csv(r\"C:\\Miguel\\progetti\\05_Modifica Testi\\02_output\\mails.csv\", sep=\";\", index=False)"
   ]
  },
  {
   "cell_type": "code",
   "execution_count": 18,
   "id": "069a6004-b351-48fb-9f49-916fe8dba2e5",
   "metadata": {},
   "outputs": [
    {
     "data": {
      "text/html": [
       "<div>\n",
       "<style scoped>\n",
       "    .dataframe tbody tr th:only-of-type {\n",
       "        vertical-align: middle;\n",
       "    }\n",
       "\n",
       "    .dataframe tbody tr th {\n",
       "        vertical-align: top;\n",
       "    }\n",
       "\n",
       "    .dataframe thead th {\n",
       "        text-align: right;\n",
       "    }\n",
       "</style>\n",
       "<table border=\"1\" class=\"dataframe\">\n",
       "  <thead>\n",
       "    <tr style=\"text-align: right;\">\n",
       "      <th></th>\n",
       "      <th>RECEIVER_MAIL</th>\n",
       "      <th>ID_RECEIVER</th>\n",
       "      <th>Tipo_mail</th>\n",
       "    </tr>\n",
       "  </thead>\n",
       "  <tbody>\n",
       "    <tr>\n",
       "      <th>0</th>\n",
       "      <td>arviassicurazionepolizze@arval.it</td>\n",
       "      <td>arviassicurazionepolizze</td>\n",
       "      <td>arval_gruppo</td>\n",
       "    </tr>\n",
       "    <tr>\n",
       "      <th>1</th>\n",
       "      <td>arvifuelmanagement@arval.it</td>\n",
       "      <td>arvifuelmanagement</td>\n",
       "      <td>arval_gruppo</td>\n",
       "    </tr>\n",
       "    <tr>\n",
       "      <th>2</th>\n",
       "      <td>arvibillingoperationalservices@arval.it</td>\n",
       "      <td>arvibillingoperationalservices</td>\n",
       "      <td>arval_gruppo</td>\n",
       "    </tr>\n",
       "    <tr>\n",
       "      <th>3</th>\n",
       "      <td>arviamministrazionebonifici@arval.it</td>\n",
       "      <td>arviamministrazionebonifici</td>\n",
       "      <td>arval_gruppo</td>\n",
       "    </tr>\n",
       "    <tr>\n",
       "      <th>4</th>\n",
       "      <td>michele.cipullo@arval.it</td>\n",
       "      <td>michele_cipullo</td>\n",
       "      <td>arval_persona</td>\n",
       "    </tr>\n",
       "    <tr>\n",
       "      <th>...</th>\n",
       "      <td>...</td>\n",
       "      <td>...</td>\n",
       "      <td>...</td>\n",
       "    </tr>\n",
       "    <tr>\n",
       "      <th>1278</th>\n",
       "      <td>paolo.andreuccetti-bridge@arval.it</td>\n",
       "      <td>paolo_andreuccetti-bridge</td>\n",
       "      <td>arval_persona</td>\n",
       "    </tr>\n",
       "    <tr>\n",
       "      <th>1285</th>\n",
       "      <td>luisa.disomma@arval.it</td>\n",
       "      <td>luisa_disomma</td>\n",
       "      <td>arval_persona</td>\n",
       "    </tr>\n",
       "    <tr>\n",
       "      <th>1341</th>\n",
       "      <td>team.artel@ecoprogram.net</td>\n",
       "      <td>team_artel</td>\n",
       "      <td>altro</td>\n",
       "    </tr>\n",
       "    <tr>\n",
       "      <th>1349</th>\n",
       "      <td>arvitesoreria@arval.it</td>\n",
       "      <td>arvitesoreria</td>\n",
       "      <td>arval_gruppo</td>\n",
       "    </tr>\n",
       "    <tr>\n",
       "      <th>1444</th>\n",
       "      <td>giordano.loperfido@arval.it</td>\n",
       "      <td>giordano_loperfido</td>\n",
       "      <td>arval_persona</td>\n",
       "    </tr>\n",
       "  </tbody>\n",
       "</table>\n",
       "<p>132 rows × 3 columns</p>\n",
       "</div>"
      ],
      "text/plain": [
       "                                RECEIVER_MAIL                     ID_RECEIVER  \\\n",
       "0           arviassicurazionepolizze@arval.it        arviassicurazionepolizze   \n",
       "1                 arvifuelmanagement@arval.it              arvifuelmanagement   \n",
       "2     arvibillingoperationalservices@arval.it  arvibillingoperationalservices   \n",
       "3        arviamministrazionebonifici@arval.it     arviamministrazionebonifici   \n",
       "4                    michele.cipullo@arval.it                 michele_cipullo   \n",
       "...                                       ...                             ...   \n",
       "1278       paolo.andreuccetti-bridge@arval.it       paolo_andreuccetti-bridge   \n",
       "1285                   luisa.disomma@arval.it                   luisa_disomma   \n",
       "1341                team.artel@ecoprogram.net                      team_artel   \n",
       "1349                   arvitesoreria@arval.it                   arvitesoreria   \n",
       "1444              giordano.loperfido@arval.it              giordano_loperfido   \n",
       "\n",
       "          Tipo_mail  \n",
       "0      arval_gruppo  \n",
       "1      arval_gruppo  \n",
       "2      arval_gruppo  \n",
       "3      arval_gruppo  \n",
       "4     arval_persona  \n",
       "...             ...  \n",
       "1278  arval_persona  \n",
       "1285  arval_persona  \n",
       "1341          altro  \n",
       "1349   arval_gruppo  \n",
       "1444  arval_persona  \n",
       "\n",
       "[132 rows x 3 columns]"
      ]
     },
     "execution_count": 18,
     "metadata": {},
     "output_type": "execute_result"
    }
   ],
   "source": [
    "df_mails"
   ]
  },
  {
   "cell_type": "code",
   "execution_count": 19,
   "id": "0603c18b-9245-4ffd-af61-389bdb441136",
   "metadata": {},
   "outputs": [],
   "source": [
    "with pd.ExcelWriter(excel_file_path, engine='openpyxl', mode='a') as writer:\n",
    "    # Aggiungere un altro DataFrame a un foglio esistente\n",
    "    df_mails.to_excel(writer, sheet_name='RECEIVER', index=False)"
   ]
  },
  {
   "cell_type": "code",
   "execution_count": null,
   "id": "f6697a20-a4bb-4a4f-a33b-f8e53b527244",
   "metadata": {},
   "outputs": [],
   "source": []
  },
  {
   "cell_type": "markdown",
   "id": "a38350e6-2374-4969-aabd-9592b895cb5e",
   "metadata": {},
   "source": [
    "# ------------------------------------------------------------------------"
   ]
  },
  {
   "cell_type": "markdown",
   "id": "26409b59-d6cc-41ef-8b78-69d4703b61e5",
   "metadata": {},
   "source": [
    "##### ID_RECEIVER_TO"
   ]
  },
  {
   "cell_type": "code",
   "execution_count": 236,
   "id": "a037f723-88f1-4024-8229-e51389218cad",
   "metadata": {},
   "outputs": [],
   "source": [
    "df_to_addr = df_email.loc[:,df_email.columns.str.contains('to_addr')].reset_index()\n",
    "df_to_addrT = pd.melt(df_to_addr, id_vars=\"Nome File\", var_name='Email', value_name='RECEIVER_MAIL')\n",
    "df_to_addrT = df_to_addrT.dropna(subset=['RECEIVER_MAIL'])\n",
    "df_to_addrT = df_to_addrT[df_to_addrT['RECEIVER_MAIL']!=\"\"] # capire se è giusto!!!\n",
    "\n",
    "df_to_addrT2 = pd.merge(df_to_addrT, df_mails, on='RECEIVER_MAIL', how='inner')\n",
    "df_to_addrT2['Numero'] = df_to_addrT2['Email'].str.extract(r'(\\d+)') + \"A\"\n",
    "df_to_addrT2 = df_to_addrT2.rename(columns={\"ID_RECEIVER\":\"ID_RECEIVER_TO\"})\n",
    "df_to_addrT2 = df_to_addrT2.sort_values([\"Nome File\",\"Numero\"])"
   ]
  },
  {
   "cell_type": "markdown",
   "id": "e8c9ad03-9171-4b14-8ee2-f940d5ad33af",
   "metadata": {},
   "source": [
    "##### ID_RECEIVER_CC"
   ]
  },
  {
   "cell_type": "code",
   "execution_count": 237,
   "id": "34400e35-00e8-4fe3-9482-1a207a9939d1",
   "metadata": {},
   "outputs": [],
   "source": [
    "df_c_addr = df_email.loc[:,df_email.columns.str.contains('c_addr')].reset_index()\n",
    "df_c_addrT = pd.melt(df_c_addr, id_vars=\"Nome File\", var_name='Email', value_name='RECEIVER_MAIL')\n",
    "df_c_addrT = df_c_addrT.dropna(subset=['RECEIVER_MAIL'])\n",
    "df_c_addrT = df_c_addrT[df_c_addrT['RECEIVER_MAIL']!=\"\"] # capire se è giusto!!!\n",
    "\n",
    "df_c_addrT2 = pd.merge(df_c_addrT, df_mails, on='RECEIVER_MAIL', how='inner')\n",
    "df_c_addrT2['Numero'] = df_c_addrT2['Email'].str.extract(r'(\\d+)') + \"B\"\n",
    "df_c_addrT2 = df_c_addrT2.rename(columns={\"ID_RECEIVER\":\"ID_RECEIVER_CC\"})\n",
    "df_c_addrT2 = df_c_addrT2.sort_values([\"Nome File\",\"Numero\"])"
   ]
  },
  {
   "cell_type": "code",
   "execution_count": 238,
   "id": "38050401-954f-4c6b-8d44-b99ff7e403f1",
   "metadata": {
    "scrolled": true
   },
   "outputs": [],
   "source": [
    "df_mail_param = pd.concat([df_to_addrT2, df_c_addrT2], ignore_index=True)\n",
    "# df_mail_param.drop(columns=[\"Email\",\"RECEIVER_MAIL\",\"Tipo_mail\"])"
   ]
  },
  {
   "cell_type": "code",
   "execution_count": 247,
   "id": "6b8d5b1d-19f5-4d91-a04d-15503d5dc6a8",
   "metadata": {},
   "outputs": [
    {
     "ename": "KeyError",
     "evalue": "'Numero'",
     "output_type": "error",
     "traceback": [
      "\u001b[1;31m---------------------------------------------------------------------------\u001b[0m",
      "\u001b[1;31mKeyError\u001b[0m                                  Traceback (most recent call last)",
      "\u001b[1;32m~\\AppData\\Local\\Temp\\ipykernel_13636\\677793877.py\u001b[0m in \u001b[0;36m?\u001b[1;34m()\u001b[0m\n\u001b[1;32m----> 1\u001b[1;33m \u001b[0mdf_mail_param\u001b[0m \u001b[1;33m=\u001b[0m \u001b[0mdf_mail_param\u001b[0m\u001b[1;33m.\u001b[0m\u001b[0msort_values\u001b[0m\u001b[1;33m(\u001b[0m\u001b[1;33m[\u001b[0m\u001b[1;34m\"Nome File\"\u001b[0m\u001b[1;33m,\u001b[0m\u001b[1;34m\"Numero\"\u001b[0m\u001b[1;33m]\u001b[0m\u001b[1;33m)\u001b[0m\u001b[1;33m\u001b[0m\u001b[1;33m\u001b[0m\u001b[0m\n\u001b[0m\u001b[0;32m      2\u001b[0m \u001b[0mdf_mail_param\u001b[0m \u001b[1;33m=\u001b[0m \u001b[0mdf_mail_param\u001b[0m\u001b[1;33m.\u001b[0m\u001b[0mdrop\u001b[0m\u001b[1;33m(\u001b[0m\u001b[0mcolumns\u001b[0m\u001b[1;33m=\u001b[0m\u001b[1;33m[\u001b[0m\u001b[1;34m\"Email\"\u001b[0m\u001b[1;33m,\u001b[0m\u001b[1;34m\"RECEIVER_MAIL\"\u001b[0m\u001b[1;33m,\u001b[0m\u001b[1;34m\"Tipo_mail\"\u001b[0m\u001b[1;33m,\u001b[0m \u001b[1;34m\"Numero\"\u001b[0m\u001b[1;33m]\u001b[0m\u001b[1;33m)\u001b[0m\u001b[1;33m\u001b[0m\u001b[1;33m\u001b[0m\u001b[0m\n",
      "\u001b[1;32m~\\miniconda3\\envs\\NLP\\Lib\\site-packages\\pandas\\core\\frame.py\u001b[0m in \u001b[0;36m?\u001b[1;34m(self, by, axis, ascending, inplace, kind, na_position, ignore_index, key)\u001b[0m\n\u001b[0;32m   6923\u001b[0m                 \u001b[1;33mf\"\u001b[0m\u001b[1;33mLength of ascending (\u001b[0m\u001b[1;33m{\u001b[0m\u001b[0mlen\u001b[0m\u001b[1;33m(\u001b[0m\u001b[0mascending\u001b[0m\u001b[1;33m)\u001b[0m\u001b[1;33m}\u001b[0m\u001b[1;33m)\u001b[0m\u001b[1;33m\"\u001b[0m  \u001b[1;31m# type: ignore[arg-type]\u001b[0m\u001b[1;33m\u001b[0m\u001b[1;33m\u001b[0m\u001b[0m\n\u001b[0;32m   6924\u001b[0m                 \u001b[1;33mf\"\u001b[0m\u001b[1;33m != length of by (\u001b[0m\u001b[1;33m{\u001b[0m\u001b[0mlen\u001b[0m\u001b[1;33m(\u001b[0m\u001b[0mby\u001b[0m\u001b[1;33m)\u001b[0m\u001b[1;33m}\u001b[0m\u001b[1;33m)\u001b[0m\u001b[1;33m\"\u001b[0m\u001b[1;33m\u001b[0m\u001b[1;33m\u001b[0m\u001b[0m\n\u001b[0;32m   6925\u001b[0m             \u001b[1;33m)\u001b[0m\u001b[1;33m\u001b[0m\u001b[1;33m\u001b[0m\u001b[0m\n\u001b[0;32m   6926\u001b[0m         \u001b[1;32mif\u001b[0m \u001b[0mlen\u001b[0m\u001b[1;33m(\u001b[0m\u001b[0mby\u001b[0m\u001b[1;33m)\u001b[0m \u001b[1;33m>\u001b[0m \u001b[1;36m1\u001b[0m\u001b[1;33m:\u001b[0m\u001b[1;33m\u001b[0m\u001b[1;33m\u001b[0m\u001b[0m\n\u001b[1;32m-> 6927\u001b[1;33m             \u001b[0mkeys\u001b[0m \u001b[1;33m=\u001b[0m \u001b[1;33m[\u001b[0m\u001b[0mself\u001b[0m\u001b[1;33m.\u001b[0m\u001b[0m_get_label_or_level_values\u001b[0m\u001b[1;33m(\u001b[0m\u001b[0mx\u001b[0m\u001b[1;33m,\u001b[0m \u001b[0maxis\u001b[0m\u001b[1;33m=\u001b[0m\u001b[0maxis\u001b[0m\u001b[1;33m)\u001b[0m \u001b[1;32mfor\u001b[0m \u001b[0mx\u001b[0m \u001b[1;32min\u001b[0m \u001b[0mby\u001b[0m\u001b[1;33m]\u001b[0m\u001b[1;33m\u001b[0m\u001b[1;33m\u001b[0m\u001b[0m\n\u001b[0m\u001b[0;32m   6928\u001b[0m \u001b[1;33m\u001b[0m\u001b[0m\n\u001b[0;32m   6929\u001b[0m             \u001b[1;31m# need to rewrap columns in Series to apply key function\u001b[0m\u001b[1;33m\u001b[0m\u001b[1;33m\u001b[0m\u001b[0m\n\u001b[0;32m   6930\u001b[0m             \u001b[1;32mif\u001b[0m \u001b[0mkey\u001b[0m \u001b[1;32mis\u001b[0m \u001b[1;32mnot\u001b[0m \u001b[1;32mNone\u001b[0m\u001b[1;33m:\u001b[0m\u001b[1;33m\u001b[0m\u001b[1;33m\u001b[0m\u001b[0m\n",
      "\u001b[1;32m~\\miniconda3\\envs\\NLP\\Lib\\site-packages\\pandas\\core\\generic.py\u001b[0m in \u001b[0;36m?\u001b[1;34m(self, key, axis)\u001b[0m\n\u001b[0;32m   1840\u001b[0m             \u001b[0mvalues\u001b[0m \u001b[1;33m=\u001b[0m \u001b[0mself\u001b[0m\u001b[1;33m.\u001b[0m\u001b[0mxs\u001b[0m\u001b[1;33m(\u001b[0m\u001b[0mkey\u001b[0m\u001b[1;33m,\u001b[0m \u001b[0maxis\u001b[0m\u001b[1;33m=\u001b[0m\u001b[0mother_axes\u001b[0m\u001b[1;33m[\u001b[0m\u001b[1;36m0\u001b[0m\u001b[1;33m]\u001b[0m\u001b[1;33m)\u001b[0m\u001b[1;33m.\u001b[0m\u001b[0m_values\u001b[0m\u001b[1;33m\u001b[0m\u001b[1;33m\u001b[0m\u001b[0m\n\u001b[0;32m   1841\u001b[0m         \u001b[1;32melif\u001b[0m \u001b[0mself\u001b[0m\u001b[1;33m.\u001b[0m\u001b[0m_is_level_reference\u001b[0m\u001b[1;33m(\u001b[0m\u001b[0mkey\u001b[0m\u001b[1;33m,\u001b[0m \u001b[0maxis\u001b[0m\u001b[1;33m=\u001b[0m\u001b[0maxis\u001b[0m\u001b[1;33m)\u001b[0m\u001b[1;33m:\u001b[0m\u001b[1;33m\u001b[0m\u001b[1;33m\u001b[0m\u001b[0m\n\u001b[0;32m   1842\u001b[0m             \u001b[0mvalues\u001b[0m \u001b[1;33m=\u001b[0m \u001b[0mself\u001b[0m\u001b[1;33m.\u001b[0m\u001b[0maxes\u001b[0m\u001b[1;33m[\u001b[0m\u001b[0maxis\u001b[0m\u001b[1;33m]\u001b[0m\u001b[1;33m.\u001b[0m\u001b[0mget_level_values\u001b[0m\u001b[1;33m(\u001b[0m\u001b[0mkey\u001b[0m\u001b[1;33m)\u001b[0m\u001b[1;33m.\u001b[0m\u001b[0m_values\u001b[0m\u001b[1;33m\u001b[0m\u001b[1;33m\u001b[0m\u001b[0m\n\u001b[0;32m   1843\u001b[0m         \u001b[1;32melse\u001b[0m\u001b[1;33m:\u001b[0m\u001b[1;33m\u001b[0m\u001b[1;33m\u001b[0m\u001b[0m\n\u001b[1;32m-> 1844\u001b[1;33m             \u001b[1;32mraise\u001b[0m \u001b[0mKeyError\u001b[0m\u001b[1;33m(\u001b[0m\u001b[0mkey\u001b[0m\u001b[1;33m)\u001b[0m\u001b[1;33m\u001b[0m\u001b[1;33m\u001b[0m\u001b[0m\n\u001b[0m\u001b[0;32m   1845\u001b[0m \u001b[1;33m\u001b[0m\u001b[0m\n\u001b[0;32m   1846\u001b[0m         \u001b[1;31m# Check for duplicates\u001b[0m\u001b[1;33m\u001b[0m\u001b[1;33m\u001b[0m\u001b[0m\n\u001b[0;32m   1847\u001b[0m         \u001b[1;32mif\u001b[0m \u001b[0mvalues\u001b[0m\u001b[1;33m.\u001b[0m\u001b[0mndim\u001b[0m \u001b[1;33m>\u001b[0m \u001b[1;36m1\u001b[0m\u001b[1;33m:\u001b[0m\u001b[1;33m\u001b[0m\u001b[1;33m\u001b[0m\u001b[0m\n",
      "\u001b[1;31mKeyError\u001b[0m: 'Numero'"
     ]
    }
   ],
   "source": [
    "df_mail_param = df_mail_param.sort_values([\"Nome File\",\"Numero\"])\n",
    "df_mail_param = df_mail_param.drop(columns=[\"Email\",\"RECEIVER_MAIL\",\"Tipo_mail\", \"Numero\"])"
   ]
  },
  {
   "cell_type": "code",
   "execution_count": 248,
   "id": "a7f72db7-5b13-4c01-839f-b95f0b7ef115",
   "metadata": {
    "scrolled": true
   },
   "outputs": [],
   "source": [
    "df_mail_param.to_csv(\"mail_parametrizzato.csv\", index=False)"
   ]
  },
  {
   "cell_type": "code",
   "execution_count": null,
   "id": "d99dd3e0-9a9c-47fe-a597-2c2e36889c3e",
   "metadata": {},
   "outputs": [],
   "source": []
  }
 ],
 "metadata": {
  "kernelspec": {
   "display_name": "Python 3 (ipykernel)",
   "language": "python",
   "name": "python3"
  },
  "language_info": {
   "codemirror_mode": {
    "name": "ipython",
    "version": 3
   },
   "file_extension": ".py",
   "mimetype": "text/x-python",
   "name": "python",
   "nbconvert_exporter": "python",
   "pygments_lexer": "ipython3",
   "version": "3.12.0"
  }
 },
 "nbformat": 4,
 "nbformat_minor": 5
}
