{
 "cells": [
  {
   "cell_type": "markdown",
   "id": "1bd94dad-8068-4720-b158-6e0e8500a687",
   "metadata": {},
   "source": [
    "# Modifica suffisso v_100"
   ]
  },
  {
   "cell_type": "code",
   "execution_count": 13,
   "id": "ed0f363b-f2dc-423a-8b71-3bb20942d303",
   "metadata": {},
   "outputs": [
    {
     "name": "stdout",
     "output_type": "stream",
     "text": [
      "File rinominato: 0878_DRI_Ins_Flash_Mao_Rone_Daily_v9.0.sas -> 0878_DRI_Ins_Flash_Mao_Rone_Daily_v100.sas\n",
      "File rinominato: PRD_0363_DRI_Ins_Quotation_Rv_Score_v2.0.sas -> PRD_0363_DRI_Ins_Quotation_Rv_Score_v100.sas\n",
      "File rinominato: PRD_0482_DRI_Lst_Tempi_di_Fermo_v6.0.sas -> PRD_0482_DRI_Lst_Tempi_di_Fermo_v100.sas\n",
      "File rinominato: PRD_0577_REP_Lst_Estimation_Check_Result_v2.0.sas -> PRD_0577_REP_Lst_Estimation_Check_Result_v100.sas\n",
      "File rinominato: PRD_0713_DRI_Ins_ContractManagement_v22.0.sas -> PRD_0713_DRI_Ins_ContractManagement_v100.sas\n",
      "File rinominato: PRD_0780_DRI_Lst_MTR_Lookup_Xerox_v2.0.sas -> PRD_0780_DRI_Lst_MTR_Lookup_Xerox_v100.sas\n",
      "File rinominato: PRD_0795_DRI_Lst_Furti_Tot_Clienti_Contenzioso_v2.0.sas -> PRD_0795_DRI_Lst_Furti_Tot_Clienti_Contenzioso_v100.sas\n",
      "File rinominato: PRD_0889_Anomalie_Est_Check_Repository_v3.0.sas -> PRD_0889_Anomalie_Est_Check_Repository_v100.sas\n",
      "File rinominato: PRD_1019_DRI_Lst_Query_Valore_Assicurato_v4.0.sas -> PRD_1019_DRI_Lst_Query_Valore_Assicurato_v100.sas\n",
      "File rinominato: PRD_1086_DRI_Ins_DB_Sales_Renewals_v10.0.sas -> PRD_1086_DRI_Ins_DB_Sales_Renewals_v100.sas\n",
      "File rinominato: PRD_1119_REP_Lst_Chk_Log_Breakdown_v1.0.sas -> PRD_1119_REP_Lst_Chk_Log_Breakdown_v100.sas\n",
      "File rinominato: PRD_1122_DRI_Ins_DWH_WA_CLOSER_GPS_ODO_v1.0.sas -> PRD_1122_DRI_Ins_DWH_WA_CLOSER_GPS_ODO_v100.sas\n",
      "File rinominato: PRD_1123_DRI_Lst_QC_2627_Ripartizione_Costi_Satellite_v5.0.sas -> PRD_1123_DRI_Lst_QC_2627_Ripartizione_Costi_Satellite_v100.sas\n",
      "File rinominato: PRD_1124_DRI_Lst_QC_2628_Contratti_RES_v3.0.sas -> PRD_1124_DRI_Lst_QC_2628_Contratti_RES_v100.sas\n",
      "File rinominato: PRD_1125_DRI_Lst_QC_2629_Check_Fatt_Pass_DRIvsSAT_v2.0.sas -> PRD_1125_DRI_Lst_QC_2629_Check_Fatt_Pass_DRIvsSAT_v100.sas\n",
      "File rinominato: PRD_1126_DRI_Lst_QC_2822_Contratti_TER_v3.0.sas -> PRD_1126_DRI_Lst_QC_2822_Contratti_TER_v100.sas\n",
      "File rinominato: PRD_1128_DRI_Lst_DRI_Progetto_EDM_EIM_v2.0.sas -> PRD_1128_DRI_Lst_DRI_Progetto_EDM_EIM_v100.sas\n",
      "File rinominato: PRD_1164_DRI_Lst_Contract_Management_CdG_v14.0.sas -> PRD_1164_DRI_Lst_Contract_Management_CdG_v100.sas\n",
      "File rinominato: PRD_1176_DRI_Lst_Cdg_Sales_Process_Kpi_Daily_v2.0.sas -> PRD_1176_DRI_Lst_Cdg_Sales_Process_Kpi_Daily_v100.sas\n",
      "File rinominato: PRD_1186_DRI_Lst_CUS_BR_Fuel_v4.0.sas -> PRD_1186_DRI_Lst_CUS_BR_Fuel_v100.sas\n",
      "File rinominato: PRD_1210_DWH_StoricoWA_v2.0.sas -> PRD_1210_DWH_StoricoWA_v100.sas\n",
      "File rinominato: PRD_1260_DRI_Lst_Veicolo_Stock_Rifiutato_v6.0.sas -> PRD_1260_DRI_Lst_Veicolo_Stock_Rifiutato_v100.sas\n",
      "File rinominato: PRD_1267_DRI_Lst_Xerox_NASADRIVE_STOCK_v2.0.sas -> PRD_1267_DRI_Lst_Xerox_NASADRIVE_STOCK_v100.sas\n",
      "File rinominato: PRD_1360_DRI_Lst_Hlpy_Targhe_v4.0.sas -> PRD_1360_DRI_Lst_Hlpy_Targhe_v100.sas\n",
      "File rinominato: PRD_1361_DRI_Ins_DWH_Activity_Complaints_v16.0.sas -> PRD_1361_DRI_Ins_DWH_Activity_Complaints_v100.sas\n",
      "File rinominato: PRD_1363_COD_Lst_Stato_Pagamenti_Documenti_Fornitori_v6.0.sas -> PRD_1363_COD_Lst_Stato_Pagamenti_Documenti_Fornitori_v100.sas\n",
      "File rinominato: PRD_1412_COD_Lst_Richiesta_Autoriz_Pagamento_Fatture_v5.0.sas -> PRD_1412_COD_Lst_Richiesta_Autoriz_Pagamento_Fatture_v100.sas\n",
      "File rinominato: PRD_1536_DRI_Lst_EOC_Creazione_Schede_Activities_v5.0.sas -> PRD_1536_DRI_Lst_EOC_Creazione_Schede_Activities_v100.sas\n",
      "File rinominato: PRD_1589_DRI_Lst_DRI_E-invoice_v1.0.sas -> PRD_1589_DRI_Lst_DRI_E-invoice_v100.sas\n",
      "File rinominato: PRD_1609_MON_Lst_BACKLOG_MTR_v1.0.sas -> PRD_1609_MON_Lst_BACKLOG_MTR_v100.sas\n",
      "File rinominato: PRD_2015_XLS_Ins_Service_Black_Box_v3.0.sas -> PRD_2015_XLS_Ins_Service_Black_Box_v100.sas\n"
     ]
    }
   ],
   "source": [
    "import os\n",
    "\n",
    "def modifica_ultima_parte_nome(cartella, nuovo_suffisso):\n",
    "    files = [f for f in os.listdir(cartella) if f.endswith(\".sas\")]\n",
    "    for file_name in files:\n",
    "        vecchio_path = os.path.join(cartella, file_name)\n",
    "            \n",
    "        # Estrai la parte del nome prima dell'ultima occorrenza di '_'\n",
    "        indice_ultimo_underscore = file_name.rfind('_')\n",
    "        if indice_ultimo_underscore != -1:\n",
    "            nome_base = file_name[:indice_ultimo_underscore]\n",
    "            \n",
    "            # Aggiungi \"_v100\" alla fine del nome del file se nuovo_suffisso non è vuoto\n",
    "            nuovo_nome = f\"{nome_base}_{nuovo_suffisso}.sas\" if nuovo_suffisso else f\"{nome_base}.sas\"\n",
    "            \n",
    "            nuovo_path = os.path.join(cartella, nuovo_nome)\n",
    "            \n",
    "            os.rename(vecchio_path, nuovo_path)\n",
    "            print(f\"File rinominato: {file_name} -> {nuovo_nome}\")\n",
    "\n",
    "# Esempio di utilizzo\n",
    "cartella =  r\"C:\\Miguel\\progetti\\05_Modifica Testi\\01_data\\pgm_sas\\Catena_20-11-2023\"\n",
    "nuovo_suffisso = \"v100\"   # es. v100 (senza \"_\")\n",
    "modifica_ultima_parte_nome(cartella, nuovo_suffisso)\n"
   ]
  },
  {
   "cell_type": "markdown",
   "id": "c9a44b67-70c4-461b-be1c-e535ce1f9dfd",
   "metadata": {},
   "source": [
    "# Aggiungi righe iniziali\n",
    "%let versione = Versione 100;"
   ]
  },
  {
   "cell_type": "code",
   "execution_count": 14,
   "id": "6b1e0c6b-e584-4afb-9836-f01256ae355d",
   "metadata": {},
   "outputs": [
    {
     "name": "stdout",
     "output_type": "stream",
     "text": [
      "Aggiunte righe iniziali al file: 0878_DRI_Ins_Flash_Mao_Rone_Daily_v100.sas\n",
      "Aggiunte righe iniziali al file: PRD_0363_DRI_Ins_Quotation_Rv_Score_v100.sas\n",
      "Aggiunte righe iniziali al file: PRD_0482_DRI_Lst_Tempi_di_Fermo_v100.sas\n",
      "Aggiunte righe iniziali al file: PRD_0577_REP_Lst_Estimation_Check_Result_v100.sas\n",
      "Aggiunte righe iniziali al file: PRD_0713_DRI_Ins_ContractManagement_v100.sas\n",
      "Aggiunte righe iniziali al file: PRD_0780_DRI_Lst_MTR_Lookup_Xerox_v100.sas\n",
      "Aggiunte righe iniziali al file: PRD_0795_DRI_Lst_Furti_Tot_Clienti_Contenzioso_v100.sas\n",
      "Aggiunte righe iniziali al file: PRD_0889_Anomalie_Est_Check_Repository_v100.sas\n",
      "Aggiunte righe iniziali al file: PRD_1019_DRI_Lst_Query_Valore_Assicurato_v100.sas\n",
      "Aggiunte righe iniziali al file: PRD_1086_DRI_Ins_DB_Sales_Renewals_v100.sas\n",
      "Aggiunte righe iniziali al file: PRD_1119_REP_Lst_Chk_Log_Breakdown_v100.sas\n",
      "Aggiunte righe iniziali al file: PRD_1122_DRI_Ins_DWH_WA_CLOSER_GPS_ODO_v100.sas\n",
      "Aggiunte righe iniziali al file: PRD_1123_DRI_Lst_QC_2627_Ripartizione_Costi_Satellite_v100.sas\n",
      "Aggiunte righe iniziali al file: PRD_1124_DRI_Lst_QC_2628_Contratti_RES_v100.sas\n",
      "Aggiunte righe iniziali al file: PRD_1125_DRI_Lst_QC_2629_Check_Fatt_Pass_DRIvsSAT_v100.sas\n",
      "Aggiunte righe iniziali al file: PRD_1126_DRI_Lst_QC_2822_Contratti_TER_v100.sas\n",
      "Aggiunte righe iniziali al file: PRD_1128_DRI_Lst_DRI_Progetto_EDM_EIM_v100.sas\n",
      "Aggiunte righe iniziali al file: PRD_1164_DRI_Lst_Contract_Management_CdG_v100.sas\n",
      "Aggiunte righe iniziali al file: PRD_1176_DRI_Lst_Cdg_Sales_Process_Kpi_Daily_v100.sas\n",
      "Aggiunte righe iniziali al file: PRD_1186_DRI_Lst_CUS_BR_Fuel_v100.sas\n",
      "Aggiunte righe iniziali al file: PRD_1210_DWH_StoricoWA_v100.sas\n",
      "Aggiunte righe iniziali al file: PRD_1260_DRI_Lst_Veicolo_Stock_Rifiutato_v100.sas\n",
      "Aggiunte righe iniziali al file: PRD_1267_DRI_Lst_Xerox_NASADRIVE_STOCK_v100.sas\n",
      "Aggiunte righe iniziali al file: PRD_1360_DRI_Lst_Hlpy_Targhe_v100.sas\n",
      "Aggiunte righe iniziali al file: PRD_1361_DRI_Ins_DWH_Activity_Complaints_v100.sas\n",
      "Aggiunte righe iniziali al file: PRD_1363_COD_Lst_Stato_Pagamenti_Documenti_Fornitori_v100.sas\n",
      "Aggiunte righe iniziali al file: PRD_1412_COD_Lst_Richiesta_Autoriz_Pagamento_Fatture_v100.sas\n",
      "Aggiunte righe iniziali al file: PRD_1536_DRI_Lst_EOC_Creazione_Schede_Activities_v100.sas\n",
      "Aggiunte righe iniziali al file: PRD_1589_DRI_Lst_DRI_E-invoice_v100.sas\n",
      "Aggiunte righe iniziali al file: PRD_1609_MON_Lst_BACKLOG_MTR_v100.sas\n",
      "Aggiunte righe iniziali al file: PRD_2015_XLS_Ins_Service_Black_Box_v100.sas\n"
     ]
    }
   ],
   "source": [
    "import os\n",
    "\n",
    "def aggiungi_righe_iniziali(cartella):\n",
    "    files = [f for f in os.listdir(cartella) if f.endswith(\".sas\")]\n",
    "    for file_name in files:\n",
    "        file_path = os.path.join(cartella, file_name)\n",
    "\n",
    "        with open(file_path, 'r') as file:\n",
    "            lines = file.readlines()\n",
    "\n",
    "        # Aggiungi le nuove righe all'inizio del file\n",
    "        lines.insert(0, \"%let Versione = Versione 100;\\n\")\n",
    "        lines.insert(1, \"%put &Versione;\\n\")\n",
    "\n",
    "        # Scrivi il nuovo contenuto nel file\n",
    "        with open(file_path, 'w') as file:\n",
    "            file.writelines(lines)\n",
    "\n",
    "        print(f\"Aggiunte righe iniziali al file: {file_name}\")\n",
    "\n",
    "# Esempio di utilizzo\n",
    "aggiungi_righe_iniziali(cartella)\n"
   ]
  },
  {
   "cell_type": "code",
   "execution_count": null,
   "id": "6eaeb4b3-3387-4e12-ba26-895e0ed9f951",
   "metadata": {},
   "outputs": [],
   "source": []
  }
 ],
 "metadata": {
  "kernelspec": {
   "display_name": "Python 3 (ipykernel)",
   "language": "python",
   "name": "python3"
  },
  "language_info": {
   "codemirror_mode": {
    "name": "ipython",
    "version": 3
   },
   "file_extension": ".py",
   "mimetype": "text/x-python",
   "name": "python",
   "nbconvert_exporter": "python",
   "pygments_lexer": "ipython3",
   "version": "3.12.0"
  }
 },
 "nbformat": 4,
 "nbformat_minor": 5
}
