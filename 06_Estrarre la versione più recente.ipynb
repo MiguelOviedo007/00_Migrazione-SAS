{
 "cells": [
  {
   "cell_type": "code",
   "execution_count": null,
   "id": "2aad3a32-c207-4864-979f-3dcc4b066121",
   "metadata": {},
   "outputs": [],
   "source": [
    "import os\n",
    "import re\n",
    "\n",
    "def clean_sas_files(folder_path):\n",
    "    for root, dirs, files in os.walk(folder_path):\n",
    "        sas_files = [file for file in files if file.endswith(\".sas\")]\n",
    "\n",
    "        # Raggruppa i file per nome base\n",
    "        grouped_files = {}\n",
    "        for sas_file in sas_files:\n",
    "            match = re.match(r'^(.+)_v(\\d+\\.\\d+).sas$', sas_file)\n",
    "            if match:\n",
    "                base_name, version = match.groups()\n",
    "                version = float(version)\n",
    "                if base_name not in grouped_files or grouped_files[base_name][0] < version:\n",
    "                    grouped_files[base_name] = (version, sas_file)\n",
    "\n",
    "        # Elimina i file non selezionati\n",
    "        for base_name, (version, selected_file) in grouped_files.items():\n",
    "            for sas_file in sas_files:\n",
    "                if sas_file.startswith(base_name) and sas_file != selected_file:\n",
    "                    file_path = os.path.join(root, sas_file)\n",
    "                    os.remove(file_path)\n",
    "                    print(f\"Eliminato: {file_path}\")\n",
    "\n",
    "\n",
    "if __name__ == \"__main__\":\n",
    "    folder_path = r\"C:\\Miguel\\progetti\\05_Modifica Testi\\01_data\\TEST\\PROVA ELIMINA\"\n",
    "    clean_sas_files(folder_path)"
   ]
  },
  {
   "cell_type": "markdown",
   "id": "05f2097f-6ab8-4ecf-a474-2da6988e73aa",
   "metadata": {},
   "source": [
    "# COPIA CARTELLE - evitanto alcune"
   ]
  },
  {
   "cell_type": "code",
   "execution_count": 11,
   "id": "11624974-0319-4da5-bddc-a307775b479a",
   "metadata": {},
   "outputs": [],
   "source": [
    "import os\n",
    "import shutil\n",
    "\n",
    "def copia_cartelle_senza_old(path_origine, path_destinazione):\n",
    "    cartelle_da_evitare = [\"old\", \"old_version\", \"old script\", \"old dg\", \"vecchi script\", \"_old\", \"Versioni Old\", \"wip_old\", \"OLD DG\"]\n",
    "\n",
    "    for cartella_origine, sottocartelle, files in os.walk(path_origine):\n",
    "        # Verifica se la cartella corrente deve essere evitata\n",
    "        if any(evita_cartella in cartella_origine.lower() for evita_cartella in cartelle_da_evitare):\n",
    "            continue\n",
    "\n",
    "        # Crea la cartella di destinazione\n",
    "        cartella_destinazione = os.path.join(path_destinazione, os.path.relpath(cartella_origine, path_origine))\n",
    "        os.makedirs(cartella_destinazione, exist_ok=True)\n",
    "\n",
    "        # Copia tutti i file dalla cartella di origine a quella di destinazione\n",
    "        for file in files:\n",
    "            origine_file = os.path.join(cartella_origine, file)\n",
    "            destinazione_file = os.path.join(cartella_destinazione, file)\n",
    "            shutil.copy2(origine_file, destinazione_file)\n",
    "\n",
    "if __name__ == \"__main__\":\n",
    "    # Imposta i percorsi di origine e destinazione\n",
    "    path_origine = r\"C:\\Miguel\\progetti\\05_Modifica Testi\\01_data\\TEST\\CODICI_SAS\"\n",
    "    path_destinazione = r\"C:\\Miguel\\progetti\\05_Modifica Testi\\01_data\\TEST\\COPIA2\"\n",
    "\n",
    "    # Chiama la funzione per copiare le cartelle senza quelle specifiche\n",
    "    copia_cartelle_senza_old(path_origine, path_destinazione)\n"
   ]
  },
  {
   "cell_type": "markdown",
   "id": "2019ea3a-9b06-48d8-b11a-3d47aa374012",
   "metadata": {},
   "source": [
    "# Mantiene l'ultima versione "
   ]
  },
  {
   "cell_type": "code",
   "execution_count": 10,
   "id": "2d0a1476-a665-4657-a04e-9d26153de8e8",
   "metadata": {},
   "outputs": [],
   "source": [
    "import os\n",
    "import re\n",
    "\n",
    "def clean_sas_files(folder_path):\n",
    "    for root, dirs, files in os.walk(folder_path):\n",
    "        sas_files = [file for file in files if file.endswith(\".sas\")]\n",
    "\n",
    "        # Elimina i file che terminano con \" - Copia.sas\"\n",
    "        sas_files = [file for file in sas_files if not file.endswith(\" - Copia\")]\n",
    "\n",
    "        # Raggruppa i file per nome base\n",
    "        grouped_files = {}\n",
    "        for sas_file in sas_files:\n",
    "            match = re.match(r'^(.+)_v(\\d+\\.\\d+).sas$', sas_file)\n",
    "            if match:\n",
    "                base_name, version = match.groups()\n",
    "                version = float(version)\n",
    "                if base_name not in grouped_files or grouped_files[base_name][0] < version:\n",
    "                    grouped_files[base_name] = (version, sas_file)\n",
    "\n",
    "        # Elimina i file non selezionati\n",
    "        for base_name, (version, selected_file) in grouped_files.items():\n",
    "            for sas_file in sas_files:\n",
    "                if sas_file.startswith(base_name) and sas_file != selected_file:\n",
    "                    file_path = os.path.join(root, sas_file)\n",
    "                    os.remove(file_path)\n",
    "                    print(f\"Eliminato: {file_path}\")\n",
    "\n",
    "if __name__ == \"__main__\":\n",
    "    folder_path = r\"C:\\Miguel\\progetti\\05_Modifica Testi\\01_data\\TEST\\CODICI_SAS\"\n",
    "    clean_sas_files(folder_path)\n"
   ]
  },
  {
   "cell_type": "code",
   "execution_count": null,
   "id": "22861f98-e305-4c7e-9c31-2f2965590801",
   "metadata": {},
   "outputs": [],
   "source": []
  }
 ],
 "metadata": {
  "kernelspec": {
   "display_name": "Python 3 (ipykernel)",
   "language": "python",
   "name": "python3"
  },
  "language_info": {
   "codemirror_mode": {
    "name": "ipython",
    "version": 3
   },
   "file_extension": ".py",
   "mimetype": "text/x-python",
   "name": "python",
   "nbconvert_exporter": "python",
   "pygments_lexer": "ipython3",
   "version": "3.12.0"
  }
 },
 "nbformat": 4,
 "nbformat_minor": 5
}
